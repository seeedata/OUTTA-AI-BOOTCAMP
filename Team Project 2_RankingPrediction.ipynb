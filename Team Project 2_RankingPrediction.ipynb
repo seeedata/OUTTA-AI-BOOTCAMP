{
  "cells": [
    {
      "cell_type": "markdown",
      "metadata": {
        "id": "view-in-github",
        "colab_type": "text"
      },
      "source": [
        "<a href=\"https://colab.research.google.com/github/seeedata/OUTTA-AI-BOOTCAMP/blob/main/Team%20Project%202_RankingPrediction.ipynb\" target=\"_parent\"><img src=\"https://colab.research.google.com/assets/colab-badge.svg\" alt=\"Open In Colab\"/></a>"
      ]
    },
    {
      "cell_type": "markdown",
      "id": "38406d21",
      "metadata": {
        "id": "38406d21"
      },
      "source": [
        "### 데이터 불러오기\n",
        "\n",
        "파일의 이름에 숫자만 다른 것을 이용하여 반복문으로 한번에 데이터를 가져와 df에 할당합니다."
      ]
    },
    {
      "cell_type": "code",
      "execution_count": null,
      "id": "57c0059f",
      "metadata": {
        "id": "57c0059f",
        "outputId": "28be7746-3174-43d6-b447-284134022088"
      },
      "outputs": [
        {
          "data": {
            "text/html": [
              "<div>\n",
              "<style scoped>\n",
              "    .dataframe tbody tr th:only-of-type {\n",
              "        vertical-align: middle;\n",
              "    }\n",
              "\n",
              "    .dataframe tbody tr th {\n",
              "        vertical-align: top;\n",
              "    }\n",
              "\n",
              "    .dataframe thead th {\n",
              "        text-align: right;\n",
              "    }\n",
              "</style>\n",
              "<table border=\"1\" class=\"dataframe\">\n",
              "  <thead>\n",
              "    <tr style=\"text-align: right;\">\n",
              "      <th></th>\n",
              "      <th>브랜드</th>\n",
              "      <th>상품명</th>\n",
              "      <th>카테고리</th>\n",
              "      <th>정가</th>\n",
              "      <th>할인가</th>\n",
              "      <th>아이디</th>\n",
              "      <th>별점</th>\n",
              "      <th>피부정보</th>\n",
              "      <th>피부타입</th>\n",
              "      <th>피부고민</th>\n",
              "      <th>자극도</th>\n",
              "    </tr>\n",
              "  </thead>\n",
              "  <tbody>\n",
              "    <tr>\n",
              "      <th>0</th>\n",
              "      <td>구달</td>\n",
              "      <td>[홍현희 PICK/ 한정기획] 구달 청귤 비타C 잡티케어 세럼 50ml+50ml 리필기획</td>\n",
              "      <td>에센스/세럼</td>\n",
              "      <td>43000</td>\n",
              "      <td>28900</td>\n",
              "      <td>고먐미먼지</td>\n",
              "      <td>3</td>\n",
              "      <td>복합성, 겨울쿨톤, 미백, 블랙헤드</td>\n",
              "      <td>지성에 좋아요</td>\n",
              "      <td>주름/미백에 좋아요</td>\n",
              "      <td>자극없이 순해요</td>\n",
              "    </tr>\n",
              "    <tr>\n",
              "      <th>1</th>\n",
              "      <td>구달</td>\n",
              "      <td>[홍현희 PICK/ 한정기획] 구달 청귤 비타C 잡티케어 세럼 50ml+50ml 리필기획</td>\n",
              "      <td>에센스/세럼</td>\n",
              "      <td>43000</td>\n",
              "      <td>28900</td>\n",
              "      <td>뚜딘</td>\n",
              "      <td>5</td>\n",
              "      <td>복합성, 웜톤, 다크서클, 모공</td>\n",
              "      <td>복합성에 좋아요</td>\n",
              "      <td>주름/미백에 좋아요</td>\n",
              "      <td>자극없이 순해요</td>\n",
              "    </tr>\n",
              "    <tr>\n",
              "      <th>2</th>\n",
              "      <td>구달</td>\n",
              "      <td>[홍현희 PICK/ 한정기획] 구달 청귤 비타C 잡티케어 세럼 50ml+50ml 리필기획</td>\n",
              "      <td>에센스/세럼</td>\n",
              "      <td>43000</td>\n",
              "      <td>28900</td>\n",
              "      <td>수부지지만행복해묘</td>\n",
              "      <td>5</td>\n",
              "      <td>지성, 겨울쿨톤, 모공, 미백</td>\n",
              "      <td>건성에 좋아요</td>\n",
              "      <td>주름/미백에 좋아요</td>\n",
              "      <td>자극없이 순해요</td>\n",
              "    </tr>\n",
              "    <tr>\n",
              "      <th>3</th>\n",
              "      <td>구달</td>\n",
              "      <td>[홍현희 PICK/ 한정기획] 구달 청귤 비타C 잡티케어 세럼 50ml+50ml 리필기획</td>\n",
              "      <td>에센스/세럼</td>\n",
              "      <td>43000</td>\n",
              "      <td>28900</td>\n",
              "      <td>뽀드득뽀드득</td>\n",
              "      <td>5</td>\n",
              "      <td>민감성, 여름쿨톤, 민감성, 잡티</td>\n",
              "      <td>복합성에 좋아요</td>\n",
              "      <td>주름/미백에 좋아요</td>\n",
              "      <td>보통이에요</td>\n",
              "    </tr>\n",
              "    <tr>\n",
              "      <th>4</th>\n",
              "      <td>구달</td>\n",
              "      <td>[홍현희 PICK/ 한정기획] 구달 청귤 비타C 잡티케어 세럼 50ml+50ml 리필기획</td>\n",
              "      <td>에센스/세럼</td>\n",
              "      <td>43000</td>\n",
              "      <td>28900</td>\n",
              "      <td>comejuliet</td>\n",
              "      <td>5</td>\n",
              "      <td>건성, 겨울쿨톤, 블랙헤드, 주름</td>\n",
              "      <td>건성에 좋아요</td>\n",
              "      <td>보습에 좋아요</td>\n",
              "      <td>자극없이 순해요</td>\n",
              "    </tr>\n",
              "  </tbody>\n",
              "</table>\n",
              "</div>"
            ],
            "text/plain": [
              "  브랜드                                                상품명    카테고리     정가  \\\n",
              "0  구달  [홍현희 PICK/ 한정기획] 구달 청귤 비타C 잡티케어 세럼 50ml+50ml 리필기획  에센스/세럼  43000   \n",
              "1  구달  [홍현희 PICK/ 한정기획] 구달 청귤 비타C 잡티케어 세럼 50ml+50ml 리필기획  에센스/세럼  43000   \n",
              "2  구달  [홍현희 PICK/ 한정기획] 구달 청귤 비타C 잡티케어 세럼 50ml+50ml 리필기획  에센스/세럼  43000   \n",
              "3  구달  [홍현희 PICK/ 한정기획] 구달 청귤 비타C 잡티케어 세럼 50ml+50ml 리필기획  에센스/세럼  43000   \n",
              "4  구달  [홍현희 PICK/ 한정기획] 구달 청귤 비타C 잡티케어 세럼 50ml+50ml 리필기획  에센스/세럼  43000   \n",
              "\n",
              "     할인가         아이디  별점                 피부정보      피부타입        피부고민       자극도  \n",
              "0  28900       고먐미먼지   3  복합성, 겨울쿨톤, 미백, 블랙헤드   지성에 좋아요  주름/미백에 좋아요  자극없이 순해요  \n",
              "1  28900          뚜딘   5    복합성, 웜톤, 다크서클, 모공  복합성에 좋아요  주름/미백에 좋아요  자극없이 순해요  \n",
              "2  28900   수부지지만행복해묘   5     지성, 겨울쿨톤, 모공, 미백   건성에 좋아요  주름/미백에 좋아요  자극없이 순해요  \n",
              "3  28900      뽀드득뽀드득   5   민감성, 여름쿨톤, 민감성, 잡티  복합성에 좋아요  주름/미백에 좋아요     보통이에요  \n",
              "4  28900  comejuliet   5   건성, 겨울쿨톤, 블랙헤드, 주름   건성에 좋아요     보습에 좋아요  자극없이 순해요  "
            ]
          },
          "execution_count": 1,
          "metadata": {},
          "output_type": "execute_result"
        }
      ],
      "source": [
        "import pandas as pd\n",
        "import numpy as np\n",
        "import matplotlib.pyplot as plt\n",
        "import warnings\n",
        "warnings.filterwarnings(action='ignore')\n",
        "\n",
        "#일반적으로 사용하는 데이터 파일 불러오는 방법\n",
        "d1= pd.read_excel(\"test.xlsx\")\n",
        "d1.head()"
      ]
    },
    {
      "cell_type": "code",
      "execution_count": null,
      "id": "9734c713",
      "metadata": {
        "id": "9734c713",
        "outputId": "7bccfe62-2e6f-4e79-e642-3a817afba6d9"
      },
      "outputs": [
        {
          "data": {
            "text/plain": [
              "(5000, 11)"
            ]
          },
          "execution_count": 2,
          "metadata": {},
          "output_type": "execute_result"
        }
      ],
      "source": [
        "d1.shape"
      ]
    },
    {
      "cell_type": "code",
      "execution_count": null,
      "id": "f4b9ef98",
      "metadata": {
        "id": "f4b9ef98"
      },
      "outputs": [],
      "source": [
        "d2 = pd.read_excel(\"제공데이터/rank2.xlsx\")\n",
        "d5 = pd.read_excel(\"제공데이터/rank5.xlsx\")\n",
        "d8 = pd.read_excel(\"제공데이터/rank8.xlsx\")"
      ]
    },
    {
      "cell_type": "code",
      "execution_count": null,
      "id": "080f3c78",
      "metadata": {
        "id": "080f3c78"
      },
      "outputs": [],
      "source": [
        "def clean_data(dataframe):\n",
        "    dataframe['정가'] = dataframe['정가'].apply(lambda x: x.replace(\",\", \"\")).astype(int)\n",
        "    dataframe['할인가'] = dataframe['할인가'].apply(lambda x: x.replace(\",\", \"\")).astype(int)\n",
        "    dataframe['별점'] = dataframe['별점'].apply(lambda x: x.split()[1][0]).astype(int)\n",
        "    dataframe['피부정보'] = dataframe['피부정보'].apply(lambda x: x.replace(\" \", \", \"))\n",
        "    return dataframe"
      ]
    },
    {
      "cell_type": "code",
      "execution_count": null,
      "id": "c9914ddf",
      "metadata": {
        "id": "c9914ddf"
      },
      "outputs": [],
      "source": [
        "d2 = clean_data(d2)\n",
        "d5 = clean_data(d5)\n",
        "d8 = clean_data(d8)"
      ]
    },
    {
      "cell_type": "code",
      "execution_count": null,
      "id": "30d9cdfe",
      "metadata": {
        "id": "30d9cdfe"
      },
      "outputs": [],
      "source": [
        "df = pd.concat([d1, d2, d5, d8], axis=0)"
      ]
    },
    {
      "cell_type": "code",
      "execution_count": null,
      "id": "4f1b8d15",
      "metadata": {
        "id": "4f1b8d15",
        "outputId": "6fa95774-07da-4d8f-8a0b-764cf4f7a783"
      },
      "outputs": [
        {
          "data": {
            "text/plain": [
              "(8000, 11)"
            ]
          },
          "execution_count": 50,
          "metadata": {},
          "output_type": "execute_result"
        }
      ],
      "source": [
        "df.shape"
      ]
    },
    {
      "cell_type": "markdown",
      "id": "66df6d17",
      "metadata": {
        "id": "66df6d17"
      },
      "source": [
        "### 결측값 제거\n",
        "\n",
        "크롤링 코드 작성 시 크롤링하지 못한 정보는 '없음'으로 저장하게 했기 때문에 '없음'의 갯수로 결측값의 갯수를 파악합니다."
      ]
    },
    {
      "cell_type": "code",
      "execution_count": null,
      "id": "f8f82995",
      "metadata": {
        "id": "f8f82995",
        "outputId": "6716eec0-f47d-4312-c716-7e72067bc3a4"
      },
      "outputs": [
        {
          "name": "stdout",
          "output_type": "stream",
          "text": [
            "브랜드 0\n",
            "상품명 0\n",
            "카테고리 0\n",
            "정가 0\n",
            "할인가 0\n",
            "아이디 0\n",
            "별점 0\n",
            "피부정보 3561\n",
            "피부타입 4\n",
            "피부고민 3\n",
            "자극도 3\n"
          ]
        }
      ],
      "source": [
        "###############제공된 코드 건드리지 마세요 ###################\n",
        "\n",
        "### 데이터 컬럼별 없음(결측치) 개수 파악\n",
        "\n",
        "col_name = df.columns    #컬럼명 저장\n",
        "from collections import Counter\n",
        "\n",
        "for i in col_name:\n",
        "    print(i,Counter(df[i])[\"없음\"])"
      ]
    },
    {
      "cell_type": "code",
      "execution_count": null,
      "id": "fec5090b",
      "metadata": {
        "id": "fec5090b",
        "outputId": "08561d76-21c7-4626-ef79-1f816e8ccf87"
      },
      "outputs": [
        {
          "data": {
            "text/html": [
              "<div>\n",
              "<style scoped>\n",
              "    .dataframe tbody tr th:only-of-type {\n",
              "        vertical-align: middle;\n",
              "    }\n",
              "\n",
              "    .dataframe tbody tr th {\n",
              "        vertical-align: top;\n",
              "    }\n",
              "\n",
              "    .dataframe thead th {\n",
              "        text-align: right;\n",
              "    }\n",
              "</style>\n",
              "<table border=\"1\" class=\"dataframe\">\n",
              "  <thead>\n",
              "    <tr style=\"text-align: right;\">\n",
              "      <th></th>\n",
              "      <th>브랜드</th>\n",
              "      <th>상품명</th>\n",
              "      <th>카테고리</th>\n",
              "      <th>정가</th>\n",
              "      <th>할인가</th>\n",
              "      <th>아이디</th>\n",
              "      <th>별점</th>\n",
              "      <th>피부정보</th>\n",
              "      <th>피부타입</th>\n",
              "      <th>피부고민</th>\n",
              "      <th>자극도</th>\n",
              "    </tr>\n",
              "  </thead>\n",
              "  <tbody>\n",
              "    <tr>\n",
              "      <th>9</th>\n",
              "      <td>구달</td>\n",
              "      <td>[홍현희 PICK/ 한정기획] 구달 청귤 비타C 잡티케어 세럼 50ml+50ml 리필기획</td>\n",
              "      <td>에센스/세럼</td>\n",
              "      <td>43000</td>\n",
              "      <td>28900</td>\n",
              "      <td>요니양</td>\n",
              "      <td>5</td>\n",
              "      <td>없음</td>\n",
              "      <td>복합성에 좋아요</td>\n",
              "      <td>진정에 좋아요</td>\n",
              "      <td>보통이에요</td>\n",
              "    </tr>\n",
              "    <tr>\n",
              "      <th>19</th>\n",
              "      <td>구달</td>\n",
              "      <td>[홍현희 PICK/ 한정기획] 구달 청귤 비타C 잡티케어 세럼 50ml+50ml 리필기획</td>\n",
              "      <td>에센스/세럼</td>\n",
              "      <td>43000</td>\n",
              "      <td>28900</td>\n",
              "      <td>머핀이</td>\n",
              "      <td>4</td>\n",
              "      <td>없음</td>\n",
              "      <td>건성에 좋아요</td>\n",
              "      <td>주름/미백에 좋아요</td>\n",
              "      <td>자극이 느껴져요</td>\n",
              "    </tr>\n",
              "    <tr>\n",
              "      <th>28</th>\n",
              "      <td>구달</td>\n",
              "      <td>[홍현희 PICK/ 한정기획] 구달 청귤 비타C 잡티케어 세럼 50ml+50ml 리필기획</td>\n",
              "      <td>에센스/세럼</td>\n",
              "      <td>43000</td>\n",
              "      <td>28900</td>\n",
              "      <td>MiMi20</td>\n",
              "      <td>4</td>\n",
              "      <td>없음</td>\n",
              "      <td>건성에 좋아요</td>\n",
              "      <td>진정에 좋아요</td>\n",
              "      <td>자극이 느껴져요</td>\n",
              "    </tr>\n",
              "    <tr>\n",
              "      <th>29</th>\n",
              "      <td>구달</td>\n",
              "      <td>[홍현희 PICK/ 한정기획] 구달 청귤 비타C 잡티케어 세럼 50ml+50ml 리필기획</td>\n",
              "      <td>에센스/세럼</td>\n",
              "      <td>43000</td>\n",
              "      <td>28900</td>\n",
              "      <td>노라라</td>\n",
              "      <td>5</td>\n",
              "      <td>없음</td>\n",
              "      <td>복합성에 좋아요</td>\n",
              "      <td>진정에 좋아요</td>\n",
              "      <td>보통이에요</td>\n",
              "    </tr>\n",
              "    <tr>\n",
              "      <th>38</th>\n",
              "      <td>구달</td>\n",
              "      <td>[홍현희 PICK/ 한정기획] 구달 청귤 비타C 잡티케어 세럼 50ml+50ml 리필기획</td>\n",
              "      <td>에센스/세럼</td>\n",
              "      <td>43000</td>\n",
              "      <td>28900</td>\n",
              "      <td>사루별</td>\n",
              "      <td>5</td>\n",
              "      <td>없음</td>\n",
              "      <td>복합성에 좋아요</td>\n",
              "      <td>진정에 좋아요</td>\n",
              "      <td>자극이 느껴져요</td>\n",
              "    </tr>\n",
              "    <tr>\n",
              "      <th>...</th>\n",
              "      <td>...</td>\n",
              "      <td>...</td>\n",
              "      <td>...</td>\n",
              "      <td>...</td>\n",
              "      <td>...</td>\n",
              "      <td>...</td>\n",
              "      <td>...</td>\n",
              "      <td>...</td>\n",
              "      <td>...</td>\n",
              "      <td>...</td>\n",
              "      <td>...</td>\n",
              "    </tr>\n",
              "    <tr>\n",
              "      <th>995</th>\n",
              "      <td>닥터지</td>\n",
              "      <td>[2세대 천만크림] 닥터지 레드 블레미쉬 클리어 수딩 크림 70ml+30ml 세트</td>\n",
              "      <td>크림</td>\n",
              "      <td>38000</td>\n",
              "      <td>28800</td>\n",
              "      <td>neea****</td>\n",
              "      <td>5</td>\n",
              "      <td>없음</td>\n",
              "      <td>복합성에 좋아요</td>\n",
              "      <td>진정에 좋아요</td>\n",
              "      <td>보통이에요</td>\n",
              "    </tr>\n",
              "    <tr>\n",
              "      <th>996</th>\n",
              "      <td>닥터지</td>\n",
              "      <td>[2세대 천만크림] 닥터지 레드 블레미쉬 클리어 수딩 크림 70ml+30ml 세트</td>\n",
              "      <td>크림</td>\n",
              "      <td>38000</td>\n",
              "      <td>28800</td>\n",
              "      <td>you92****</td>\n",
              "      <td>5</td>\n",
              "      <td>없음</td>\n",
              "      <td>복합성에 좋아요</td>\n",
              "      <td>진정에 좋아요</td>\n",
              "      <td>보통이에요</td>\n",
              "    </tr>\n",
              "    <tr>\n",
              "      <th>997</th>\n",
              "      <td>닥터지</td>\n",
              "      <td>[2세대 천만크림] 닥터지 레드 블레미쉬 클리어 수딩 크림 70ml+30ml 세트</td>\n",
              "      <td>크림</td>\n",
              "      <td>38000</td>\n",
              "      <td>28800</td>\n",
              "      <td>gusrbs****</td>\n",
              "      <td>5</td>\n",
              "      <td>없음</td>\n",
              "      <td>건성에 좋아요</td>\n",
              "      <td>진정에 좋아요</td>\n",
              "      <td>자극없이 순해요</td>\n",
              "    </tr>\n",
              "    <tr>\n",
              "      <th>998</th>\n",
              "      <td>닥터지</td>\n",
              "      <td>[2세대 천만크림] 닥터지 레드 블레미쉬 클리어 수딩 크림 70ml+30ml 세트</td>\n",
              "      <td>크림</td>\n",
              "      <td>38000</td>\n",
              "      <td>28800</td>\n",
              "      <td>jjkkhjpj****</td>\n",
              "      <td>5</td>\n",
              "      <td>없음</td>\n",
              "      <td>지성에 좋아요</td>\n",
              "      <td>진정에 좋아요</td>\n",
              "      <td>보통이에요</td>\n",
              "    </tr>\n",
              "    <tr>\n",
              "      <th>999</th>\n",
              "      <td>닥터지</td>\n",
              "      <td>[2세대 천만크림] 닥터지 레드 블레미쉬 클리어 수딩 크림 70ml+30ml 세트</td>\n",
              "      <td>크림</td>\n",
              "      <td>38000</td>\n",
              "      <td>28800</td>\n",
              "      <td>jy****</td>\n",
              "      <td>5</td>\n",
              "      <td>없음</td>\n",
              "      <td>복합성에 좋아요</td>\n",
              "      <td>진정에 좋아요</td>\n",
              "      <td>자극없이 순해요</td>\n",
              "    </tr>\n",
              "  </tbody>\n",
              "</table>\n",
              "<p>3566 rows × 11 columns</p>\n",
              "</div>"
            ],
            "text/plain": [
              "     브랜드                                                상품명    카테고리     정가  \\\n",
              "9     구달  [홍현희 PICK/ 한정기획] 구달 청귤 비타C 잡티케어 세럼 50ml+50ml 리필기획  에센스/세럼  43000   \n",
              "19    구달  [홍현희 PICK/ 한정기획] 구달 청귤 비타C 잡티케어 세럼 50ml+50ml 리필기획  에센스/세럼  43000   \n",
              "28    구달  [홍현희 PICK/ 한정기획] 구달 청귤 비타C 잡티케어 세럼 50ml+50ml 리필기획  에센스/세럼  43000   \n",
              "29    구달  [홍현희 PICK/ 한정기획] 구달 청귤 비타C 잡티케어 세럼 50ml+50ml 리필기획  에센스/세럼  43000   \n",
              "38    구달  [홍현희 PICK/ 한정기획] 구달 청귤 비타C 잡티케어 세럼 50ml+50ml 리필기획  에센스/세럼  43000   \n",
              "..   ...                                                ...     ...    ...   \n",
              "995  닥터지      [2세대 천만크림] 닥터지 레드 블레미쉬 클리어 수딩 크림 70ml+30ml 세트      크림  38000   \n",
              "996  닥터지      [2세대 천만크림] 닥터지 레드 블레미쉬 클리어 수딩 크림 70ml+30ml 세트      크림  38000   \n",
              "997  닥터지      [2세대 천만크림] 닥터지 레드 블레미쉬 클리어 수딩 크림 70ml+30ml 세트      크림  38000   \n",
              "998  닥터지      [2세대 천만크림] 닥터지 레드 블레미쉬 클리어 수딩 크림 70ml+30ml 세트      크림  38000   \n",
              "999  닥터지      [2세대 천만크림] 닥터지 레드 블레미쉬 클리어 수딩 크림 70ml+30ml 세트      크림  38000   \n",
              "\n",
              "       할인가           아이디  별점 피부정보      피부타입        피부고민       자극도  \n",
              "9    28900           요니양   5   없음  복합성에 좋아요     진정에 좋아요     보통이에요  \n",
              "19   28900           머핀이   4   없음   건성에 좋아요  주름/미백에 좋아요  자극이 느껴져요  \n",
              "28   28900        MiMi20   4   없음   건성에 좋아요     진정에 좋아요  자극이 느껴져요  \n",
              "29   28900           노라라   5   없음  복합성에 좋아요     진정에 좋아요     보통이에요  \n",
              "38   28900           사루별   5   없음  복합성에 좋아요     진정에 좋아요  자극이 느껴져요  \n",
              "..     ...           ...  ..  ...       ...         ...       ...  \n",
              "995  28800      neea****   5   없음  복합성에 좋아요     진정에 좋아요     보통이에요  \n",
              "996  28800     you92****   5   없음  복합성에 좋아요     진정에 좋아요     보통이에요  \n",
              "997  28800    gusrbs****   5   없음   건성에 좋아요     진정에 좋아요  자극없이 순해요  \n",
              "998  28800  jjkkhjpj****   5   없음   지성에 좋아요     진정에 좋아요     보통이에요  \n",
              "999  28800        jy****   5   없음  복합성에 좋아요     진정에 좋아요  자극없이 순해요  \n",
              "\n",
              "[3566 rows x 11 columns]"
            ]
          },
          "execution_count": 52,
          "metadata": {},
          "output_type": "execute_result"
        }
      ],
      "source": [
        "#피부정보, 별점, 피부타입, 피부고민, 자극도 중 하나라도 값이 '없음'인 경우\n",
        "df[df.apply(lambda row: row.astype(str).str.contains('없음').any(), axis=1)]"
      ]
    },
    {
      "cell_type": "code",
      "execution_count": null,
      "id": "6147bbee",
      "metadata": {
        "id": "6147bbee",
        "outputId": "ed5f276c-dfd9-49a8-faf5-bb7e46062da1"
      },
      "outputs": [
        {
          "data": {
            "text/plain": [
              "(4436, 11)"
            ]
          },
          "execution_count": 53,
          "metadata": {},
          "output_type": "execute_result"
        }
      ],
      "source": [
        "### 별점, 피부타입, 피부고민, 자극도 값이 없음은 제거한 데이터를 df2에 저장\n",
        "df2= df[(df['피부정보']!='없음') & (df['피부타입']!='없음') & (df['피부고민']!= '없음') & (df['자극도']!='없음')]\n",
        "df2.reset_index(drop=True, inplace=True)\n",
        "df2.shape"
      ]
    },
    {
      "cell_type": "code",
      "execution_count": null,
      "id": "0aabf144",
      "metadata": {
        "id": "0aabf144",
        "outputId": "2a1a65bf-6975-45b4-9212-ae7cc42e70c3"
      },
      "outputs": [
        {
          "name": "stdout",
          "output_type": "stream",
          "text": [
            "브랜드 0\n",
            "상품명 0\n",
            "카테고리 0\n",
            "정가 0\n",
            "할인가 0\n",
            "아이디 0\n",
            "별점 0\n",
            "피부정보 0\n",
            "피부타입 0\n",
            "피부고민 0\n",
            "자극도 0\n"
          ]
        }
      ],
      "source": [
        "###############제공된 코드 건드리지 마세요 ###################\n",
        "### 데이터 컬럼별 없음(결측치) 개수 파악\n",
        "\n",
        "col_name = df2.columns    #컬럼명 저장\n",
        "from collections import Counter\n",
        "\n",
        "for i in col_name:\n",
        "    print(i,Counter(df2[i])[\"없음\"])"
      ]
    },
    {
      "cell_type": "markdown",
      "id": "61f4a48f",
      "metadata": {
        "id": "61f4a48f"
      },
      "source": [
        "### 정가, 할인가 데이터 타입 변경\n",
        "\n",
        "정가,할인가의 쉼표를 제거하고 데이터 타입을 int64로 바꿔줍니다."
      ]
    },
    {
      "cell_type": "code",
      "execution_count": null,
      "id": "66844f67",
      "metadata": {
        "id": "66844f67",
        "outputId": "be0b4e9b-d053-46df-e139-ce4c63fdc417"
      },
      "outputs": [
        {
          "data": {
            "text/plain": [
              "브랜드     object\n",
              "상품명     object\n",
              "카테고리    object\n",
              "정가       int64\n",
              "할인가      int64\n",
              "아이디     object\n",
              "별점       int64\n",
              "피부정보    object\n",
              "피부타입    object\n",
              "피부고민    object\n",
              "자극도     object\n",
              "dtype: object"
            ]
          },
          "execution_count": 55,
          "metadata": {},
          "output_type": "execute_result"
        }
      ],
      "source": [
        "df2.dtypes"
      ]
    },
    {
      "cell_type": "markdown",
      "id": "4b276ece",
      "metadata": {
        "id": "4b276ece"
      },
      "source": [
        "### 아이디 컬럼 삭제\n",
        "\n",
        "모델 학습 시 아이디 정보는 필요하지 않기 때문에 제거해줍니다."
      ]
    },
    {
      "cell_type": "code",
      "execution_count": null,
      "id": "d863642d",
      "metadata": {
        "id": "d863642d",
        "outputId": "1e9e753e-8533-4613-d6da-d7a148f11c3b"
      },
      "outputs": [
        {
          "data": {
            "text/html": [
              "<div>\n",
              "<style scoped>\n",
              "    .dataframe tbody tr th:only-of-type {\n",
              "        vertical-align: middle;\n",
              "    }\n",
              "\n",
              "    .dataframe tbody tr th {\n",
              "        vertical-align: top;\n",
              "    }\n",
              "\n",
              "    .dataframe thead th {\n",
              "        text-align: right;\n",
              "    }\n",
              "</style>\n",
              "<table border=\"1\" class=\"dataframe\">\n",
              "  <thead>\n",
              "    <tr style=\"text-align: right;\">\n",
              "      <th></th>\n",
              "      <th>브랜드</th>\n",
              "      <th>상품명</th>\n",
              "      <th>카테고리</th>\n",
              "      <th>정가</th>\n",
              "      <th>할인가</th>\n",
              "      <th>별점</th>\n",
              "      <th>피부정보</th>\n",
              "      <th>피부타입</th>\n",
              "      <th>피부고민</th>\n",
              "      <th>자극도</th>\n",
              "    </tr>\n",
              "  </thead>\n",
              "  <tbody>\n",
              "    <tr>\n",
              "      <th>0</th>\n",
              "      <td>구달</td>\n",
              "      <td>[홍현희 PICK/ 한정기획] 구달 청귤 비타C 잡티케어 세럼 50ml+50ml 리필기획</td>\n",
              "      <td>에센스/세럼</td>\n",
              "      <td>43000</td>\n",
              "      <td>28900</td>\n",
              "      <td>3</td>\n",
              "      <td>복합성, 겨울쿨톤, 미백, 블랙헤드</td>\n",
              "      <td>지성에 좋아요</td>\n",
              "      <td>주름/미백에 좋아요</td>\n",
              "      <td>자극없이 순해요</td>\n",
              "    </tr>\n",
              "    <tr>\n",
              "      <th>1</th>\n",
              "      <td>구달</td>\n",
              "      <td>[홍현희 PICK/ 한정기획] 구달 청귤 비타C 잡티케어 세럼 50ml+50ml 리필기획</td>\n",
              "      <td>에센스/세럼</td>\n",
              "      <td>43000</td>\n",
              "      <td>28900</td>\n",
              "      <td>5</td>\n",
              "      <td>복합성, 웜톤, 다크서클, 모공</td>\n",
              "      <td>복합성에 좋아요</td>\n",
              "      <td>주름/미백에 좋아요</td>\n",
              "      <td>자극없이 순해요</td>\n",
              "    </tr>\n",
              "    <tr>\n",
              "      <th>2</th>\n",
              "      <td>구달</td>\n",
              "      <td>[홍현희 PICK/ 한정기획] 구달 청귤 비타C 잡티케어 세럼 50ml+50ml 리필기획</td>\n",
              "      <td>에센스/세럼</td>\n",
              "      <td>43000</td>\n",
              "      <td>28900</td>\n",
              "      <td>5</td>\n",
              "      <td>지성, 겨울쿨톤, 모공, 미백</td>\n",
              "      <td>건성에 좋아요</td>\n",
              "      <td>주름/미백에 좋아요</td>\n",
              "      <td>자극없이 순해요</td>\n",
              "    </tr>\n",
              "    <tr>\n",
              "      <th>3</th>\n",
              "      <td>구달</td>\n",
              "      <td>[홍현희 PICK/ 한정기획] 구달 청귤 비타C 잡티케어 세럼 50ml+50ml 리필기획</td>\n",
              "      <td>에센스/세럼</td>\n",
              "      <td>43000</td>\n",
              "      <td>28900</td>\n",
              "      <td>5</td>\n",
              "      <td>민감성, 여름쿨톤, 민감성, 잡티</td>\n",
              "      <td>복합성에 좋아요</td>\n",
              "      <td>주름/미백에 좋아요</td>\n",
              "      <td>보통이에요</td>\n",
              "    </tr>\n",
              "    <tr>\n",
              "      <th>4</th>\n",
              "      <td>구달</td>\n",
              "      <td>[홍현희 PICK/ 한정기획] 구달 청귤 비타C 잡티케어 세럼 50ml+50ml 리필기획</td>\n",
              "      <td>에센스/세럼</td>\n",
              "      <td>43000</td>\n",
              "      <td>28900</td>\n",
              "      <td>5</td>\n",
              "      <td>건성, 겨울쿨톤, 블랙헤드, 주름</td>\n",
              "      <td>건성에 좋아요</td>\n",
              "      <td>보습에 좋아요</td>\n",
              "      <td>자극없이 순해요</td>\n",
              "    </tr>\n",
              "  </tbody>\n",
              "</table>\n",
              "</div>"
            ],
            "text/plain": [
              "  브랜드                                                상품명    카테고리     정가  \\\n",
              "0  구달  [홍현희 PICK/ 한정기획] 구달 청귤 비타C 잡티케어 세럼 50ml+50ml 리필기획  에센스/세럼  43000   \n",
              "1  구달  [홍현희 PICK/ 한정기획] 구달 청귤 비타C 잡티케어 세럼 50ml+50ml 리필기획  에센스/세럼  43000   \n",
              "2  구달  [홍현희 PICK/ 한정기획] 구달 청귤 비타C 잡티케어 세럼 50ml+50ml 리필기획  에센스/세럼  43000   \n",
              "3  구달  [홍현희 PICK/ 한정기획] 구달 청귤 비타C 잡티케어 세럼 50ml+50ml 리필기획  에센스/세럼  43000   \n",
              "4  구달  [홍현희 PICK/ 한정기획] 구달 청귤 비타C 잡티케어 세럼 50ml+50ml 리필기획  에센스/세럼  43000   \n",
              "\n",
              "     할인가  별점                 피부정보      피부타입        피부고민       자극도  \n",
              "0  28900   3  복합성, 겨울쿨톤, 미백, 블랙헤드   지성에 좋아요  주름/미백에 좋아요  자극없이 순해요  \n",
              "1  28900   5    복합성, 웜톤, 다크서클, 모공  복합성에 좋아요  주름/미백에 좋아요  자극없이 순해요  \n",
              "2  28900   5     지성, 겨울쿨톤, 모공, 미백   건성에 좋아요  주름/미백에 좋아요  자극없이 순해요  \n",
              "3  28900   5   민감성, 여름쿨톤, 민감성, 잡티  복합성에 좋아요  주름/미백에 좋아요     보통이에요  \n",
              "4  28900   5   건성, 겨울쿨톤, 블랙헤드, 주름   건성에 좋아요     보습에 좋아요  자극없이 순해요  "
            ]
          },
          "execution_count": 56,
          "metadata": {},
          "output_type": "execute_result"
        }
      ],
      "source": [
        "df2 = df2.drop(['아이디'], axis=1)\n",
        "df2.head()"
      ]
    },
    {
      "cell_type": "markdown",
      "id": "eb864889",
      "metadata": {
        "id": "eb864889"
      },
      "source": [
        "### 별점에서 숫자만 남기기\n",
        "\n",
        "현재 별점은 5점만점에 X점과 같은 형식으로 되어있습니다. 여기서 X만 남기고 데이터 타입을 int64로 바꿔줍니다."
      ]
    },
    {
      "cell_type": "code",
      "execution_count": null,
      "id": "c61ca93c",
      "metadata": {
        "id": "c61ca93c",
        "outputId": "6d575089-a75b-4d4d-ae3e-20fa72e18a1c"
      },
      "outputs": [
        {
          "data": {
            "text/html": [
              "<div>\n",
              "<style scoped>\n",
              "    .dataframe tbody tr th:only-of-type {\n",
              "        vertical-align: middle;\n",
              "    }\n",
              "\n",
              "    .dataframe tbody tr th {\n",
              "        vertical-align: top;\n",
              "    }\n",
              "\n",
              "    .dataframe thead th {\n",
              "        text-align: right;\n",
              "    }\n",
              "</style>\n",
              "<table border=\"1\" class=\"dataframe\">\n",
              "  <thead>\n",
              "    <tr style=\"text-align: right;\">\n",
              "      <th></th>\n",
              "      <th>브랜드</th>\n",
              "      <th>상품명</th>\n",
              "      <th>카테고리</th>\n",
              "      <th>정가</th>\n",
              "      <th>할인가</th>\n",
              "      <th>별점</th>\n",
              "      <th>피부정보</th>\n",
              "      <th>피부타입</th>\n",
              "      <th>피부고민</th>\n",
              "      <th>자극도</th>\n",
              "    </tr>\n",
              "  </thead>\n",
              "  <tbody>\n",
              "    <tr>\n",
              "      <th>0</th>\n",
              "      <td>구달</td>\n",
              "      <td>[홍현희 PICK/ 한정기획] 구달 청귤 비타C 잡티케어 세럼 50ml+50ml 리필기획</td>\n",
              "      <td>에센스/세럼</td>\n",
              "      <td>43000</td>\n",
              "      <td>28900</td>\n",
              "      <td>3</td>\n",
              "      <td>복합성, 겨울쿨톤, 미백, 블랙헤드</td>\n",
              "      <td>지성에 좋아요</td>\n",
              "      <td>주름/미백에 좋아요</td>\n",
              "      <td>자극없이 순해요</td>\n",
              "    </tr>\n",
              "    <tr>\n",
              "      <th>1</th>\n",
              "      <td>구달</td>\n",
              "      <td>[홍현희 PICK/ 한정기획] 구달 청귤 비타C 잡티케어 세럼 50ml+50ml 리필기획</td>\n",
              "      <td>에센스/세럼</td>\n",
              "      <td>43000</td>\n",
              "      <td>28900</td>\n",
              "      <td>5</td>\n",
              "      <td>복합성, 웜톤, 다크서클, 모공</td>\n",
              "      <td>복합성에 좋아요</td>\n",
              "      <td>주름/미백에 좋아요</td>\n",
              "      <td>자극없이 순해요</td>\n",
              "    </tr>\n",
              "    <tr>\n",
              "      <th>2</th>\n",
              "      <td>구달</td>\n",
              "      <td>[홍현희 PICK/ 한정기획] 구달 청귤 비타C 잡티케어 세럼 50ml+50ml 리필기획</td>\n",
              "      <td>에센스/세럼</td>\n",
              "      <td>43000</td>\n",
              "      <td>28900</td>\n",
              "      <td>5</td>\n",
              "      <td>지성, 겨울쿨톤, 모공, 미백</td>\n",
              "      <td>건성에 좋아요</td>\n",
              "      <td>주름/미백에 좋아요</td>\n",
              "      <td>자극없이 순해요</td>\n",
              "    </tr>\n",
              "    <tr>\n",
              "      <th>3</th>\n",
              "      <td>구달</td>\n",
              "      <td>[홍현희 PICK/ 한정기획] 구달 청귤 비타C 잡티케어 세럼 50ml+50ml 리필기획</td>\n",
              "      <td>에센스/세럼</td>\n",
              "      <td>43000</td>\n",
              "      <td>28900</td>\n",
              "      <td>5</td>\n",
              "      <td>민감성, 여름쿨톤, 민감성, 잡티</td>\n",
              "      <td>복합성에 좋아요</td>\n",
              "      <td>주름/미백에 좋아요</td>\n",
              "      <td>보통이에요</td>\n",
              "    </tr>\n",
              "    <tr>\n",
              "      <th>4</th>\n",
              "      <td>구달</td>\n",
              "      <td>[홍현희 PICK/ 한정기획] 구달 청귤 비타C 잡티케어 세럼 50ml+50ml 리필기획</td>\n",
              "      <td>에센스/세럼</td>\n",
              "      <td>43000</td>\n",
              "      <td>28900</td>\n",
              "      <td>5</td>\n",
              "      <td>건성, 겨울쿨톤, 블랙헤드, 주름</td>\n",
              "      <td>건성에 좋아요</td>\n",
              "      <td>보습에 좋아요</td>\n",
              "      <td>자극없이 순해요</td>\n",
              "    </tr>\n",
              "  </tbody>\n",
              "</table>\n",
              "</div>"
            ],
            "text/plain": [
              "  브랜드                                                상품명    카테고리     정가  \\\n",
              "0  구달  [홍현희 PICK/ 한정기획] 구달 청귤 비타C 잡티케어 세럼 50ml+50ml 리필기획  에센스/세럼  43000   \n",
              "1  구달  [홍현희 PICK/ 한정기획] 구달 청귤 비타C 잡티케어 세럼 50ml+50ml 리필기획  에센스/세럼  43000   \n",
              "2  구달  [홍현희 PICK/ 한정기획] 구달 청귤 비타C 잡티케어 세럼 50ml+50ml 리필기획  에센스/세럼  43000   \n",
              "3  구달  [홍현희 PICK/ 한정기획] 구달 청귤 비타C 잡티케어 세럼 50ml+50ml 리필기획  에센스/세럼  43000   \n",
              "4  구달  [홍현희 PICK/ 한정기획] 구달 청귤 비타C 잡티케어 세럼 50ml+50ml 리필기획  에센스/세럼  43000   \n",
              "\n",
              "     할인가  별점                 피부정보      피부타입        피부고민       자극도  \n",
              "0  28900   3  복합성, 겨울쿨톤, 미백, 블랙헤드   지성에 좋아요  주름/미백에 좋아요  자극없이 순해요  \n",
              "1  28900   5    복합성, 웜톤, 다크서클, 모공  복합성에 좋아요  주름/미백에 좋아요  자극없이 순해요  \n",
              "2  28900   5     지성, 겨울쿨톤, 모공, 미백   건성에 좋아요  주름/미백에 좋아요  자극없이 순해요  \n",
              "3  28900   5   민감성, 여름쿨톤, 민감성, 잡티  복합성에 좋아요  주름/미백에 좋아요     보통이에요  \n",
              "4  28900   5   건성, 겨울쿨톤, 블랙헤드, 주름   건성에 좋아요     보습에 좋아요  자극없이 순해요  "
            ]
          },
          "execution_count": 57,
          "metadata": {},
          "output_type": "execute_result"
        }
      ],
      "source": [
        "#데이터 수집 시 이미 해줌\n",
        "df2.head()"
      ]
    },
    {
      "cell_type": "code",
      "execution_count": null,
      "id": "af923f15",
      "metadata": {
        "id": "af923f15",
        "outputId": "d6657d6e-f28d-41ce-ddfc-e09efbf6cfba"
      },
      "outputs": [
        {
          "data": {
            "text/plain": [
              "브랜드     object\n",
              "상품명     object\n",
              "카테고리    object\n",
              "정가       int64\n",
              "할인가      int64\n",
              "별점       int64\n",
              "피부정보    object\n",
              "피부타입    object\n",
              "피부고민    object\n",
              "자극도     object\n",
              "dtype: object"
            ]
          },
          "execution_count": 58,
          "metadata": {},
          "output_type": "execute_result"
        }
      ],
      "source": [
        "df2.dtypes"
      ]
    },
    {
      "cell_type": "markdown",
      "id": "fd05bfa2",
      "metadata": {
        "id": "fd05bfa2"
      },
      "source": [
        "### 피부정보 컬럼을 여러컬럼으로 구분\n",
        "\n",
        "피부정보에는 최대 피부타입, 피부톤, 2개의 피부고민 총 4개로 이루어져 있습니다.  \n",
        "해당 텍스트는 공백으로 구분되어있고 이를 이용해 4개의 컬럼(user피부타입/user피부톤/user피부고민1/user피부고민2)으로 만들어 줍니다."
      ]
    },
    {
      "cell_type": "code",
      "execution_count": null,
      "id": "130518af",
      "metadata": {
        "id": "130518af",
        "outputId": "75de5fd6-7a1c-4209-e8be-772518095f9f"
      },
      "outputs": [
        {
          "data": {
            "text/html": [
              "<div>\n",
              "<style scoped>\n",
              "    .dataframe tbody tr th:only-of-type {\n",
              "        vertical-align: middle;\n",
              "    }\n",
              "\n",
              "    .dataframe tbody tr th {\n",
              "        vertical-align: top;\n",
              "    }\n",
              "\n",
              "    .dataframe thead th {\n",
              "        text-align: right;\n",
              "    }\n",
              "</style>\n",
              "<table border=\"1\" class=\"dataframe\">\n",
              "  <thead>\n",
              "    <tr style=\"text-align: right;\">\n",
              "      <th></th>\n",
              "      <th>브랜드</th>\n",
              "      <th>상품명</th>\n",
              "      <th>카테고리</th>\n",
              "      <th>정가</th>\n",
              "      <th>할인가</th>\n",
              "      <th>별점</th>\n",
              "      <th>피부정보</th>\n",
              "      <th>피부타입</th>\n",
              "      <th>피부고민</th>\n",
              "      <th>자극도</th>\n",
              "      <th>user피부타입</th>\n",
              "      <th>user피부톤</th>\n",
              "      <th>user피부고민1</th>\n",
              "      <th>user피부고민2</th>\n",
              "    </tr>\n",
              "  </thead>\n",
              "  <tbody>\n",
              "    <tr>\n",
              "      <th>0</th>\n",
              "      <td>구달</td>\n",
              "      <td>[홍현희 PICK/ 한정기획] 구달 청귤 비타C 잡티케어 세럼 50ml+50ml 리필기획</td>\n",
              "      <td>에센스/세럼</td>\n",
              "      <td>43000</td>\n",
              "      <td>28900</td>\n",
              "      <td>3</td>\n",
              "      <td>복합성, 겨울쿨톤, 미백, 블랙헤드</td>\n",
              "      <td>지성에 좋아요</td>\n",
              "      <td>주름/미백에 좋아요</td>\n",
              "      <td>자극없이 순해요</td>\n",
              "      <td>복합성</td>\n",
              "      <td>겨울쿨톤</td>\n",
              "      <td>미백</td>\n",
              "      <td>블랙헤드</td>\n",
              "    </tr>\n",
              "    <tr>\n",
              "      <th>1</th>\n",
              "      <td>구달</td>\n",
              "      <td>[홍현희 PICK/ 한정기획] 구달 청귤 비타C 잡티케어 세럼 50ml+50ml 리필기획</td>\n",
              "      <td>에센스/세럼</td>\n",
              "      <td>43000</td>\n",
              "      <td>28900</td>\n",
              "      <td>5</td>\n",
              "      <td>복합성, 웜톤, 다크서클, 모공</td>\n",
              "      <td>복합성에 좋아요</td>\n",
              "      <td>주름/미백에 좋아요</td>\n",
              "      <td>자극없이 순해요</td>\n",
              "      <td>복합성</td>\n",
              "      <td>웜톤</td>\n",
              "      <td>다크서클</td>\n",
              "      <td>모공</td>\n",
              "    </tr>\n",
              "    <tr>\n",
              "      <th>2</th>\n",
              "      <td>구달</td>\n",
              "      <td>[홍현희 PICK/ 한정기획] 구달 청귤 비타C 잡티케어 세럼 50ml+50ml 리필기획</td>\n",
              "      <td>에센스/세럼</td>\n",
              "      <td>43000</td>\n",
              "      <td>28900</td>\n",
              "      <td>5</td>\n",
              "      <td>지성, 겨울쿨톤, 모공, 미백</td>\n",
              "      <td>건성에 좋아요</td>\n",
              "      <td>주름/미백에 좋아요</td>\n",
              "      <td>자극없이 순해요</td>\n",
              "      <td>지성</td>\n",
              "      <td>겨울쿨톤</td>\n",
              "      <td>모공</td>\n",
              "      <td>미백</td>\n",
              "    </tr>\n",
              "    <tr>\n",
              "      <th>3</th>\n",
              "      <td>구달</td>\n",
              "      <td>[홍현희 PICK/ 한정기획] 구달 청귤 비타C 잡티케어 세럼 50ml+50ml 리필기획</td>\n",
              "      <td>에센스/세럼</td>\n",
              "      <td>43000</td>\n",
              "      <td>28900</td>\n",
              "      <td>5</td>\n",
              "      <td>민감성, 여름쿨톤, 민감성, 잡티</td>\n",
              "      <td>복합성에 좋아요</td>\n",
              "      <td>주름/미백에 좋아요</td>\n",
              "      <td>보통이에요</td>\n",
              "      <td>민감성</td>\n",
              "      <td>여름쿨톤</td>\n",
              "      <td>민감성</td>\n",
              "      <td>잡티</td>\n",
              "    </tr>\n",
              "    <tr>\n",
              "      <th>4</th>\n",
              "      <td>구달</td>\n",
              "      <td>[홍현희 PICK/ 한정기획] 구달 청귤 비타C 잡티케어 세럼 50ml+50ml 리필기획</td>\n",
              "      <td>에센스/세럼</td>\n",
              "      <td>43000</td>\n",
              "      <td>28900</td>\n",
              "      <td>5</td>\n",
              "      <td>건성, 겨울쿨톤, 블랙헤드, 주름</td>\n",
              "      <td>건성에 좋아요</td>\n",
              "      <td>보습에 좋아요</td>\n",
              "      <td>자극없이 순해요</td>\n",
              "      <td>건성</td>\n",
              "      <td>겨울쿨톤</td>\n",
              "      <td>블랙헤드</td>\n",
              "      <td>주름</td>\n",
              "    </tr>\n",
              "  </tbody>\n",
              "</table>\n",
              "</div>"
            ],
            "text/plain": [
              "  브랜드                                                상품명    카테고리     정가  \\\n",
              "0  구달  [홍현희 PICK/ 한정기획] 구달 청귤 비타C 잡티케어 세럼 50ml+50ml 리필기획  에센스/세럼  43000   \n",
              "1  구달  [홍현희 PICK/ 한정기획] 구달 청귤 비타C 잡티케어 세럼 50ml+50ml 리필기획  에센스/세럼  43000   \n",
              "2  구달  [홍현희 PICK/ 한정기획] 구달 청귤 비타C 잡티케어 세럼 50ml+50ml 리필기획  에센스/세럼  43000   \n",
              "3  구달  [홍현희 PICK/ 한정기획] 구달 청귤 비타C 잡티케어 세럼 50ml+50ml 리필기획  에센스/세럼  43000   \n",
              "4  구달  [홍현희 PICK/ 한정기획] 구달 청귤 비타C 잡티케어 세럼 50ml+50ml 리필기획  에센스/세럼  43000   \n",
              "\n",
              "     할인가  별점                 피부정보      피부타입        피부고민       자극도 user피부타입  \\\n",
              "0  28900   3  복합성, 겨울쿨톤, 미백, 블랙헤드   지성에 좋아요  주름/미백에 좋아요  자극없이 순해요      복합성   \n",
              "1  28900   5    복합성, 웜톤, 다크서클, 모공  복합성에 좋아요  주름/미백에 좋아요  자극없이 순해요      복합성   \n",
              "2  28900   5     지성, 겨울쿨톤, 모공, 미백   건성에 좋아요  주름/미백에 좋아요  자극없이 순해요       지성   \n",
              "3  28900   5   민감성, 여름쿨톤, 민감성, 잡티  복합성에 좋아요  주름/미백에 좋아요     보통이에요      민감성   \n",
              "4  28900   5   건성, 겨울쿨톤, 블랙헤드, 주름   건성에 좋아요     보습에 좋아요  자극없이 순해요       건성   \n",
              "\n",
              "  user피부톤 user피부고민1 user피부고민2  \n",
              "0    겨울쿨톤        미백      블랙헤드  \n",
              "1      웜톤      다크서클        모공  \n",
              "2    겨울쿨톤        모공        미백  \n",
              "3    여름쿨톤       민감성        잡티  \n",
              "4    겨울쿨톤      블랙헤드        주름  "
            ]
          },
          "execution_count": 59,
          "metadata": {},
          "output_type": "execute_result"
        }
      ],
      "source": [
        "#힌트: split 함수\n",
        "\n",
        "df2[\"user피부타입\"] = df2['피부정보'].str.split(',', expand=True)[0]\n",
        "df2[\"user피부톤\"] = df2['피부정보'].str.split(',', expand=True)[1]\n",
        "df2[\"user피부고민1\"] = df2['피부정보'].str.split(',', expand=True)[2]\n",
        "df2[\"user피부고민2\"] = df2['피부정보'].str.split(',', expand=True)[3]\n",
        "df2.head()"
      ]
    },
    {
      "cell_type": "markdown",
      "id": "46ad259f",
      "metadata": {
        "id": "46ad259f"
      },
      "source": [
        "#### user피부타입 컬럼에서 복합성/건성/지성/민감성/트러블성/약건성/중성 을 제외하고 모두 np.NaN 처리 해줍니다.  "
      ]
    },
    {
      "cell_type": "code",
      "execution_count": null,
      "id": "f1e6a2dc",
      "metadata": {
        "id": "f1e6a2dc",
        "outputId": "23b068b1-0234-448b-924c-14bb0f1a9f1b"
      },
      "outputs": [
        {
          "data": {
            "text/plain": [
              "복합성     1935\n",
              "건성      1104\n",
              "지성       622\n",
              "민감성      419\n",
              "트러블성     210\n",
              "약건성       56\n",
              "중성        54\n",
              "Name: user피부타입, dtype: int64"
            ]
          },
          "execution_count": 61,
          "metadata": {},
          "output_type": "execute_result"
        }
      ],
      "source": [
        "#user피부타입에서 해당하지 않는 값은 nan 처리\n",
        "skin_type = ['복합성', '건성', '지성', '민감성', '트러블성', '약건성', '중성']\n",
        "def to_nan(x):\n",
        "    if x not in skin_type:\n",
        "        return np.NaN\n",
        "    else:\n",
        "        return x\n",
        "\n",
        "df2[\"user피부타입\"] = df2['user피부타입'].apply(to_nan)\n",
        "df2[\"user피부타입\"].value_counts()"
      ]
    },
    {
      "cell_type": "markdown",
      "id": "548bd591",
      "metadata": {
        "id": "548bd591"
      },
      "source": [
        "#### user피부고민2의 결측값을 user피부톤 컬럼값으로 채운 후  (웜톤/쿨톤/여름쿨톤/봄웜톤/가을웜톤/겨울쿨톤) 값을  np.NaN 처리 해줍니다."
      ]
    },
    {
      "cell_type": "code",
      "execution_count": null,
      "id": "4c1ad969",
      "metadata": {
        "id": "4c1ad969",
        "outputId": "236a5d34-bc39-4f68-caf2-404206051efc"
      },
      "outputs": [
        {
          "data": {
            "text/plain": [
              " 모공      796\n",
              " 미백      523\n",
              " 민감성     514\n",
              " 잡티      467\n",
              " 블랙헤드    421\n",
              " 트러블     318\n",
              " 다크서클    203\n",
              " 탄력      146\n",
              " 주름      114\n",
              " 홍조       63\n",
              " 아토피      47\n",
              " 피지과다     28\n",
              "Name: user피부고민2, dtype: int64"
            ]
          },
          "execution_count": 62,
          "metadata": {},
          "output_type": "execute_result"
        }
      ],
      "source": [
        "skin_tone = [' 웜톤', ' 쿨톤', ' 여름쿨톤', ' 봄웜톤', ' 가을웜톤', ' 겨울쿨톤']\n",
        "def to_nan_피부고민2(x):\n",
        "    if x in skin_tone:\n",
        "        return np.NaN\n",
        "    else:\n",
        "        return x\n",
        "\n",
        "df2[\"user피부고민2\"] = df2[\"user피부고민2\"].apply(to_nan_피부고민2)\n",
        "df2[\"user피부고민2\"].value_counts()"
      ]
    },
    {
      "cell_type": "markdown",
      "id": "aee1ceba",
      "metadata": {
        "id": "aee1ceba"
      },
      "source": [
        "### user피부타입, usesr피부고민1, user피부고민2 에서 결측값 제거"
      ]
    },
    {
      "cell_type": "code",
      "execution_count": null,
      "id": "73b6f748",
      "metadata": {
        "id": "73b6f748",
        "outputId": "56f338f2-a872-4fa5-b07f-7428eeebe1a3"
      },
      "outputs": [
        {
          "data": {
            "text/plain": [
              "브랜드            0\n",
              "상품명            0\n",
              "카테고리           0\n",
              "정가             0\n",
              "할인가            0\n",
              "별점             0\n",
              "피부정보           0\n",
              "피부타입           0\n",
              "피부고민           0\n",
              "자극도            0\n",
              "user피부타입      36\n",
              "user피부톤       87\n",
              "user피부고민1    234\n",
              "user피부고민2    796\n",
              "dtype: int64"
            ]
          },
          "execution_count": 63,
          "metadata": {},
          "output_type": "execute_result"
        }
      ],
      "source": [
        "df2.isnull().sum()"
      ]
    },
    {
      "cell_type": "code",
      "execution_count": null,
      "id": "33a6618d",
      "metadata": {
        "id": "33a6618d",
        "outputId": "10cf6d11-9937-499a-a712-99bf4bb607d5"
      },
      "outputs": [
        {
          "data": {
            "text/plain": [
              "브랜드          0\n",
              "상품명          0\n",
              "카테고리         0\n",
              "정가           0\n",
              "할인가          0\n",
              "별점           0\n",
              "피부정보         0\n",
              "피부타입         0\n",
              "피부고민         0\n",
              "자극도          0\n",
              "user피부타입     0\n",
              "user피부톤      0\n",
              "user피부고민1    0\n",
              "user피부고민2    0\n",
              "dtype: int64"
            ]
          },
          "execution_count": 64,
          "metadata": {},
          "output_type": "execute_result"
        }
      ],
      "source": [
        "df2 = df2.dropna(subset=['user피부타입', 'user피부톤', 'user피부고민1', 'user피부고민2'])\n",
        "df2.isnull().sum()"
      ]
    },
    {
      "cell_type": "code",
      "execution_count": null,
      "id": "e727a527",
      "metadata": {
        "id": "e727a527",
        "outputId": "40e34927-a5eb-4cd1-c192-5795bb02a6ef"
      },
      "outputs": [
        {
          "data": {
            "text/html": [
              "<div>\n",
              "<style scoped>\n",
              "    .dataframe tbody tr th:only-of-type {\n",
              "        vertical-align: middle;\n",
              "    }\n",
              "\n",
              "    .dataframe tbody tr th {\n",
              "        vertical-align: top;\n",
              "    }\n",
              "\n",
              "    .dataframe thead th {\n",
              "        text-align: right;\n",
              "    }\n",
              "</style>\n",
              "<table border=\"1\" class=\"dataframe\">\n",
              "  <thead>\n",
              "    <tr style=\"text-align: right;\">\n",
              "      <th></th>\n",
              "      <th>브랜드</th>\n",
              "      <th>상품명</th>\n",
              "      <th>카테고리</th>\n",
              "      <th>정가</th>\n",
              "      <th>할인가</th>\n",
              "      <th>별점</th>\n",
              "      <th>피부정보</th>\n",
              "      <th>피부타입</th>\n",
              "      <th>피부고민</th>\n",
              "      <th>자극도</th>\n",
              "      <th>user피부타입</th>\n",
              "      <th>user피부톤</th>\n",
              "      <th>user피부고민1</th>\n",
              "      <th>user피부고민2</th>\n",
              "    </tr>\n",
              "  </thead>\n",
              "  <tbody>\n",
              "    <tr>\n",
              "      <th>0</th>\n",
              "      <td>구달</td>\n",
              "      <td>[홍현희 PICK/ 한정기획] 구달 청귤 비타C 잡티케어 세럼 50ml+50ml 리필기획</td>\n",
              "      <td>에센스/세럼</td>\n",
              "      <td>43000</td>\n",
              "      <td>28900</td>\n",
              "      <td>3</td>\n",
              "      <td>복합성, 겨울쿨톤, 미백, 블랙헤드</td>\n",
              "      <td>지성에 좋아요</td>\n",
              "      <td>주름/미백에 좋아요</td>\n",
              "      <td>자극없이 순해요</td>\n",
              "      <td>복합성</td>\n",
              "      <td>겨울쿨톤</td>\n",
              "      <td>미백</td>\n",
              "      <td>블랙헤드</td>\n",
              "    </tr>\n",
              "    <tr>\n",
              "      <th>1</th>\n",
              "      <td>구달</td>\n",
              "      <td>[홍현희 PICK/ 한정기획] 구달 청귤 비타C 잡티케어 세럼 50ml+50ml 리필기획</td>\n",
              "      <td>에센스/세럼</td>\n",
              "      <td>43000</td>\n",
              "      <td>28900</td>\n",
              "      <td>5</td>\n",
              "      <td>복합성, 웜톤, 다크서클, 모공</td>\n",
              "      <td>복합성에 좋아요</td>\n",
              "      <td>주름/미백에 좋아요</td>\n",
              "      <td>자극없이 순해요</td>\n",
              "      <td>복합성</td>\n",
              "      <td>웜톤</td>\n",
              "      <td>다크서클</td>\n",
              "      <td>모공</td>\n",
              "    </tr>\n",
              "    <tr>\n",
              "      <th>2</th>\n",
              "      <td>구달</td>\n",
              "      <td>[홍현희 PICK/ 한정기획] 구달 청귤 비타C 잡티케어 세럼 50ml+50ml 리필기획</td>\n",
              "      <td>에센스/세럼</td>\n",
              "      <td>43000</td>\n",
              "      <td>28900</td>\n",
              "      <td>5</td>\n",
              "      <td>지성, 겨울쿨톤, 모공, 미백</td>\n",
              "      <td>건성에 좋아요</td>\n",
              "      <td>주름/미백에 좋아요</td>\n",
              "      <td>자극없이 순해요</td>\n",
              "      <td>지성</td>\n",
              "      <td>겨울쿨톤</td>\n",
              "      <td>모공</td>\n",
              "      <td>미백</td>\n",
              "    </tr>\n",
              "    <tr>\n",
              "      <th>3</th>\n",
              "      <td>구달</td>\n",
              "      <td>[홍현희 PICK/ 한정기획] 구달 청귤 비타C 잡티케어 세럼 50ml+50ml 리필기획</td>\n",
              "      <td>에센스/세럼</td>\n",
              "      <td>43000</td>\n",
              "      <td>28900</td>\n",
              "      <td>5</td>\n",
              "      <td>민감성, 여름쿨톤, 민감성, 잡티</td>\n",
              "      <td>복합성에 좋아요</td>\n",
              "      <td>주름/미백에 좋아요</td>\n",
              "      <td>보통이에요</td>\n",
              "      <td>민감성</td>\n",
              "      <td>여름쿨톤</td>\n",
              "      <td>민감성</td>\n",
              "      <td>잡티</td>\n",
              "    </tr>\n",
              "    <tr>\n",
              "      <th>4</th>\n",
              "      <td>구달</td>\n",
              "      <td>[홍현희 PICK/ 한정기획] 구달 청귤 비타C 잡티케어 세럼 50ml+50ml 리필기획</td>\n",
              "      <td>에센스/세럼</td>\n",
              "      <td>43000</td>\n",
              "      <td>28900</td>\n",
              "      <td>5</td>\n",
              "      <td>건성, 겨울쿨톤, 블랙헤드, 주름</td>\n",
              "      <td>건성에 좋아요</td>\n",
              "      <td>보습에 좋아요</td>\n",
              "      <td>자극없이 순해요</td>\n",
              "      <td>건성</td>\n",
              "      <td>겨울쿨톤</td>\n",
              "      <td>블랙헤드</td>\n",
              "      <td>주름</td>\n",
              "    </tr>\n",
              "  </tbody>\n",
              "</table>\n",
              "</div>"
            ],
            "text/plain": [
              "  브랜드                                                상품명    카테고리     정가  \\\n",
              "0  구달  [홍현희 PICK/ 한정기획] 구달 청귤 비타C 잡티케어 세럼 50ml+50ml 리필기획  에센스/세럼  43000   \n",
              "1  구달  [홍현희 PICK/ 한정기획] 구달 청귤 비타C 잡티케어 세럼 50ml+50ml 리필기획  에센스/세럼  43000   \n",
              "2  구달  [홍현희 PICK/ 한정기획] 구달 청귤 비타C 잡티케어 세럼 50ml+50ml 리필기획  에센스/세럼  43000   \n",
              "3  구달  [홍현희 PICK/ 한정기획] 구달 청귤 비타C 잡티케어 세럼 50ml+50ml 리필기획  에센스/세럼  43000   \n",
              "4  구달  [홍현희 PICK/ 한정기획] 구달 청귤 비타C 잡티케어 세럼 50ml+50ml 리필기획  에센스/세럼  43000   \n",
              "\n",
              "     할인가  별점                 피부정보      피부타입        피부고민       자극도 user피부타입  \\\n",
              "0  28900   3  복합성, 겨울쿨톤, 미백, 블랙헤드   지성에 좋아요  주름/미백에 좋아요  자극없이 순해요      복합성   \n",
              "1  28900   5    복합성, 웜톤, 다크서클, 모공  복합성에 좋아요  주름/미백에 좋아요  자극없이 순해요      복합성   \n",
              "2  28900   5     지성, 겨울쿨톤, 모공, 미백   건성에 좋아요  주름/미백에 좋아요  자극없이 순해요       지성   \n",
              "3  28900   5   민감성, 여름쿨톤, 민감성, 잡티  복합성에 좋아요  주름/미백에 좋아요     보통이에요      민감성   \n",
              "4  28900   5   건성, 겨울쿨톤, 블랙헤드, 주름   건성에 좋아요     보습에 좋아요  자극없이 순해요       건성   \n",
              "\n",
              "  user피부톤 user피부고민1 user피부고민2  \n",
              "0    겨울쿨톤        미백      블랙헤드  \n",
              "1      웜톤      다크서클        모공  \n",
              "2    겨울쿨톤        모공        미백  \n",
              "3    여름쿨톤       민감성        잡티  \n",
              "4    겨울쿨톤      블랙헤드        주름  "
            ]
          },
          "execution_count": 65,
          "metadata": {},
          "output_type": "execute_result"
        }
      ],
      "source": [
        "df2.head()"
      ]
    },
    {
      "cell_type": "code",
      "execution_count": null,
      "id": "fe5189bc",
      "metadata": {
        "id": "fe5189bc",
        "outputId": "aa77a3ac-b3d7-46ea-fdce-cbd6bd3a3b3c"
      },
      "outputs": [
        {
          "data": {
            "text/plain": [
              "(3640, 14)"
            ]
          },
          "execution_count": 66,
          "metadata": {},
          "output_type": "execute_result"
        }
      ],
      "source": [
        "df2.shape"
      ]
    },
    {
      "cell_type": "markdown",
      "id": "b39aec36",
      "metadata": {
        "id": "b39aec36"
      },
      "source": [
        "### df2를 df3에 복사한 후 상품명컬럼의 값을 간단하게 변경해줍니다.\n",
        "* 대용량 한정기획] 구달 청귤 비타C 잡티케어 세럼 50ml+31ml 증정 기획                                     : goodal\n",
        "* [1등 국민미스트] 달바 화이트 트러플 퍼스트 스프레이 세럼 100ml + 100ml 기획세트                        : dalba_mist\n",
        "* 성분에디터 그린토마토 포어 리프팅 앰플 플러스 30ml+10ml 기획                                           : sungboon\n",
        "* [2세대 천만크림] 닥터지 레드 블레미쉬 클리어 수딩 크림 70ml+30ml 세트                                  : dr_g\n",
        "* 라로슈포제 NEW 시카플라스트 밤B5+ 100ml 기획(+시카토너 50ml 증정)                                      : larocheposay\n",
        "* [100ml+100ml/단독기획] 토리든 다이브인 저분자 히알루론산 수딩크림 더블기획                             : torriden_cream\n",
        "* 에스트라 아토베리어365 크림 80ml 기획 (+하이드로에센스 25ml+무기자차선크림10ml 증정)(2305)             : aestura_cream\n",
        "* 에스트라 아토베리어365 로션 150ml 기획 (+하이드로에센스 25ml+무기자차선크림10ml 증정)                  : aestura_lotion\n",
        "* [단독기획] 토리든 다이브인 저분자 히알루론산 세럼 더블기획 (50ml+50ml)                                 : torriden_serum\n",
        "* [5월 올영픽/대용량] 파티온 노스카나인 트러블 세럼 단독 기획(50ml+15ml)                                 : fation\n",
        "* [쿵야 키링&스티커 증정] V&A 안티옥시던트 래디언스 앰플 더블 기획 (30ml+30ml)                           : V&A\n",
        "* [박은빈 PICK] 한율 어린쑥 수분진정크림 55ml 기획(+45ml 리필 증정)                                      : hanyul"
      ]
    },
    {
      "cell_type": "code",
      "execution_count": null,
      "id": "ea02fc31",
      "metadata": {
        "id": "ea02fc31",
        "outputId": "7b238465-907c-471e-a96a-f38113acd9c9"
      },
      "outputs": [
        {
          "data": {
            "text/plain": [
              "array(['구달', '성분에디터', '토리든', '에스네이처', '아누아', '달바', '에스트라', '닥터지'],\n",
              "      dtype=object)"
            ]
          },
          "execution_count": 67,
          "metadata": {},
          "output_type": "execute_result"
        }
      ],
      "source": [
        "df2['브랜드'].unique()"
      ]
    },
    {
      "cell_type": "code",
      "execution_count": null,
      "id": "4a2b8b22",
      "metadata": {
        "id": "4a2b8b22",
        "outputId": "8fc2e2b4-112b-4939-98a8-73a950f91811"
      },
      "outputs": [
        {
          "data": {
            "text/html": [
              "<div>\n",
              "<style scoped>\n",
              "    .dataframe tbody tr th:only-of-type {\n",
              "        vertical-align: middle;\n",
              "    }\n",
              "\n",
              "    .dataframe tbody tr th {\n",
              "        vertical-align: top;\n",
              "    }\n",
              "\n",
              "    .dataframe thead th {\n",
              "        text-align: right;\n",
              "    }\n",
              "</style>\n",
              "<table border=\"1\" class=\"dataframe\">\n",
              "  <thead>\n",
              "    <tr style=\"text-align: right;\">\n",
              "      <th></th>\n",
              "      <th>브랜드</th>\n",
              "      <th>상품명</th>\n",
              "      <th>카테고리</th>\n",
              "      <th>정가</th>\n",
              "      <th>할인가</th>\n",
              "      <th>별점</th>\n",
              "      <th>피부정보</th>\n",
              "      <th>피부타입</th>\n",
              "      <th>피부고민</th>\n",
              "      <th>자극도</th>\n",
              "      <th>user피부타입</th>\n",
              "      <th>user피부톤</th>\n",
              "      <th>user피부고민1</th>\n",
              "      <th>user피부고민2</th>\n",
              "    </tr>\n",
              "  </thead>\n",
              "  <tbody>\n",
              "    <tr>\n",
              "      <th>0</th>\n",
              "      <td>구달</td>\n",
              "      <td>goodal</td>\n",
              "      <td>에센스/세럼</td>\n",
              "      <td>43000</td>\n",
              "      <td>28900</td>\n",
              "      <td>3</td>\n",
              "      <td>복합성, 겨울쿨톤, 미백, 블랙헤드</td>\n",
              "      <td>지성에 좋아요</td>\n",
              "      <td>주름/미백에 좋아요</td>\n",
              "      <td>자극없이 순해요</td>\n",
              "      <td>복합성</td>\n",
              "      <td>겨울쿨톤</td>\n",
              "      <td>미백</td>\n",
              "      <td>블랙헤드</td>\n",
              "    </tr>\n",
              "    <tr>\n",
              "      <th>1</th>\n",
              "      <td>구달</td>\n",
              "      <td>goodal</td>\n",
              "      <td>에센스/세럼</td>\n",
              "      <td>43000</td>\n",
              "      <td>28900</td>\n",
              "      <td>5</td>\n",
              "      <td>복합성, 웜톤, 다크서클, 모공</td>\n",
              "      <td>복합성에 좋아요</td>\n",
              "      <td>주름/미백에 좋아요</td>\n",
              "      <td>자극없이 순해요</td>\n",
              "      <td>복합성</td>\n",
              "      <td>웜톤</td>\n",
              "      <td>다크서클</td>\n",
              "      <td>모공</td>\n",
              "    </tr>\n",
              "    <tr>\n",
              "      <th>2</th>\n",
              "      <td>구달</td>\n",
              "      <td>goodal</td>\n",
              "      <td>에센스/세럼</td>\n",
              "      <td>43000</td>\n",
              "      <td>28900</td>\n",
              "      <td>5</td>\n",
              "      <td>지성, 겨울쿨톤, 모공, 미백</td>\n",
              "      <td>건성에 좋아요</td>\n",
              "      <td>주름/미백에 좋아요</td>\n",
              "      <td>자극없이 순해요</td>\n",
              "      <td>지성</td>\n",
              "      <td>겨울쿨톤</td>\n",
              "      <td>모공</td>\n",
              "      <td>미백</td>\n",
              "    </tr>\n",
              "    <tr>\n",
              "      <th>3</th>\n",
              "      <td>구달</td>\n",
              "      <td>goodal</td>\n",
              "      <td>에센스/세럼</td>\n",
              "      <td>43000</td>\n",
              "      <td>28900</td>\n",
              "      <td>5</td>\n",
              "      <td>민감성, 여름쿨톤, 민감성, 잡티</td>\n",
              "      <td>복합성에 좋아요</td>\n",
              "      <td>주름/미백에 좋아요</td>\n",
              "      <td>보통이에요</td>\n",
              "      <td>민감성</td>\n",
              "      <td>여름쿨톤</td>\n",
              "      <td>민감성</td>\n",
              "      <td>잡티</td>\n",
              "    </tr>\n",
              "    <tr>\n",
              "      <th>4</th>\n",
              "      <td>구달</td>\n",
              "      <td>goodal</td>\n",
              "      <td>에센스/세럼</td>\n",
              "      <td>43000</td>\n",
              "      <td>28900</td>\n",
              "      <td>5</td>\n",
              "      <td>건성, 겨울쿨톤, 블랙헤드, 주름</td>\n",
              "      <td>건성에 좋아요</td>\n",
              "      <td>보습에 좋아요</td>\n",
              "      <td>자극없이 순해요</td>\n",
              "      <td>건성</td>\n",
              "      <td>겨울쿨톤</td>\n",
              "      <td>블랙헤드</td>\n",
              "      <td>주름</td>\n",
              "    </tr>\n",
              "  </tbody>\n",
              "</table>\n",
              "</div>"
            ],
            "text/plain": [
              "  브랜드     상품명    카테고리     정가    할인가  별점                 피부정보      피부타입  \\\n",
              "0  구달  goodal  에센스/세럼  43000  28900   3  복합성, 겨울쿨톤, 미백, 블랙헤드   지성에 좋아요   \n",
              "1  구달  goodal  에센스/세럼  43000  28900   5    복합성, 웜톤, 다크서클, 모공  복합성에 좋아요   \n",
              "2  구달  goodal  에센스/세럼  43000  28900   5     지성, 겨울쿨톤, 모공, 미백   건성에 좋아요   \n",
              "3  구달  goodal  에센스/세럼  43000  28900   5   민감성, 여름쿨톤, 민감성, 잡티  복합성에 좋아요   \n",
              "4  구달  goodal  에센스/세럼  43000  28900   5   건성, 겨울쿨톤, 블랙헤드, 주름   건성에 좋아요   \n",
              "\n",
              "         피부고민       자극도 user피부타입 user피부톤 user피부고민1 user피부고민2  \n",
              "0  주름/미백에 좋아요  자극없이 순해요      복합성    겨울쿨톤        미백      블랙헤드  \n",
              "1  주름/미백에 좋아요  자극없이 순해요      복합성      웜톤      다크서클        모공  \n",
              "2  주름/미백에 좋아요  자극없이 순해요       지성    겨울쿨톤        모공        미백  \n",
              "3  주름/미백에 좋아요     보통이에요      민감성    여름쿨톤       민감성        잡티  \n",
              "4     보습에 좋아요  자극없이 순해요       건성    겨울쿨톤      블랙헤드        주름  "
            ]
          },
          "execution_count": 68,
          "metadata": {},
          "output_type": "execute_result"
        }
      ],
      "source": [
        "df3=df2.copy()\n",
        "\n",
        "#상품명 간소화\n",
        "def name_min(x):\n",
        "    if x == '구달':\n",
        "        return \"goodal\"\n",
        "    elif x == '성분에디터':\n",
        "        return \"sungboon\"\n",
        "    elif x == '토리든':\n",
        "        return \"torriden\"\n",
        "    elif x == '에스네이처':\n",
        "        return \"s_nature\"\n",
        "    elif x == '아누아':\n",
        "        return \"anua\"\n",
        "    elif x ==\"달바\":\n",
        "        return \"d_alba\"\n",
        "    elif x == \"에스트라\":\n",
        "        return \"aestura\"\n",
        "    elif x == \"닥터지\":\n",
        "        return \"dr_g\"\n",
        "\n",
        "df3[\"상품명\"] = df3['브랜드'].apply(name_min)\n",
        "df3.head()"
      ]
    },
    {
      "cell_type": "markdown",
      "id": "77892340",
      "metadata": {
        "id": "77892340"
      },
      "source": [
        "### 브랜드, 피부정보, user피부톤 컬럼을 삭제합니다."
      ]
    },
    {
      "cell_type": "code",
      "execution_count": null,
      "id": "d719dc27",
      "metadata": {
        "id": "d719dc27"
      },
      "outputs": [],
      "source": [
        "df3 = df3.drop(['브랜드', '피부정보', 'user피부톤'], axis=1)"
      ]
    },
    {
      "cell_type": "code",
      "execution_count": null,
      "id": "1ec25e8e",
      "metadata": {
        "id": "1ec25e8e",
        "outputId": "d1e20906-491b-4eec-9809-286eafddc32a"
      },
      "outputs": [
        {
          "data": {
            "text/html": [
              "<div>\n",
              "<style scoped>\n",
              "    .dataframe tbody tr th:only-of-type {\n",
              "        vertical-align: middle;\n",
              "    }\n",
              "\n",
              "    .dataframe tbody tr th {\n",
              "        vertical-align: top;\n",
              "    }\n",
              "\n",
              "    .dataframe thead th {\n",
              "        text-align: right;\n",
              "    }\n",
              "</style>\n",
              "<table border=\"1\" class=\"dataframe\">\n",
              "  <thead>\n",
              "    <tr style=\"text-align: right;\">\n",
              "      <th></th>\n",
              "      <th>상품명</th>\n",
              "      <th>카테고리</th>\n",
              "      <th>정가</th>\n",
              "      <th>할인가</th>\n",
              "      <th>별점</th>\n",
              "      <th>피부타입</th>\n",
              "      <th>피부고민</th>\n",
              "      <th>자극도</th>\n",
              "      <th>user피부타입</th>\n",
              "      <th>user피부고민1</th>\n",
              "      <th>user피부고민2</th>\n",
              "    </tr>\n",
              "  </thead>\n",
              "  <tbody>\n",
              "    <tr>\n",
              "      <th>0</th>\n",
              "      <td>goodal</td>\n",
              "      <td>에센스/세럼</td>\n",
              "      <td>43000</td>\n",
              "      <td>28900</td>\n",
              "      <td>3</td>\n",
              "      <td>지성에 좋아요</td>\n",
              "      <td>주름/미백에 좋아요</td>\n",
              "      <td>자극없이 순해요</td>\n",
              "      <td>복합성</td>\n",
              "      <td>미백</td>\n",
              "      <td>블랙헤드</td>\n",
              "    </tr>\n",
              "    <tr>\n",
              "      <th>1</th>\n",
              "      <td>goodal</td>\n",
              "      <td>에센스/세럼</td>\n",
              "      <td>43000</td>\n",
              "      <td>28900</td>\n",
              "      <td>5</td>\n",
              "      <td>복합성에 좋아요</td>\n",
              "      <td>주름/미백에 좋아요</td>\n",
              "      <td>자극없이 순해요</td>\n",
              "      <td>복합성</td>\n",
              "      <td>다크서클</td>\n",
              "      <td>모공</td>\n",
              "    </tr>\n",
              "    <tr>\n",
              "      <th>2</th>\n",
              "      <td>goodal</td>\n",
              "      <td>에센스/세럼</td>\n",
              "      <td>43000</td>\n",
              "      <td>28900</td>\n",
              "      <td>5</td>\n",
              "      <td>건성에 좋아요</td>\n",
              "      <td>주름/미백에 좋아요</td>\n",
              "      <td>자극없이 순해요</td>\n",
              "      <td>지성</td>\n",
              "      <td>모공</td>\n",
              "      <td>미백</td>\n",
              "    </tr>\n",
              "    <tr>\n",
              "      <th>3</th>\n",
              "      <td>goodal</td>\n",
              "      <td>에센스/세럼</td>\n",
              "      <td>43000</td>\n",
              "      <td>28900</td>\n",
              "      <td>5</td>\n",
              "      <td>복합성에 좋아요</td>\n",
              "      <td>주름/미백에 좋아요</td>\n",
              "      <td>보통이에요</td>\n",
              "      <td>민감성</td>\n",
              "      <td>민감성</td>\n",
              "      <td>잡티</td>\n",
              "    </tr>\n",
              "    <tr>\n",
              "      <th>4</th>\n",
              "      <td>goodal</td>\n",
              "      <td>에센스/세럼</td>\n",
              "      <td>43000</td>\n",
              "      <td>28900</td>\n",
              "      <td>5</td>\n",
              "      <td>건성에 좋아요</td>\n",
              "      <td>보습에 좋아요</td>\n",
              "      <td>자극없이 순해요</td>\n",
              "      <td>건성</td>\n",
              "      <td>블랙헤드</td>\n",
              "      <td>주름</td>\n",
              "    </tr>\n",
              "  </tbody>\n",
              "</table>\n",
              "</div>"
            ],
            "text/plain": [
              "      상품명    카테고리     정가    할인가  별점      피부타입        피부고민       자극도 user피부타입  \\\n",
              "0  goodal  에센스/세럼  43000  28900   3   지성에 좋아요  주름/미백에 좋아요  자극없이 순해요      복합성   \n",
              "1  goodal  에센스/세럼  43000  28900   5  복합성에 좋아요  주름/미백에 좋아요  자극없이 순해요      복합성   \n",
              "2  goodal  에센스/세럼  43000  28900   5   건성에 좋아요  주름/미백에 좋아요  자극없이 순해요       지성   \n",
              "3  goodal  에센스/세럼  43000  28900   5  복합성에 좋아요  주름/미백에 좋아요     보통이에요      민감성   \n",
              "4  goodal  에센스/세럼  43000  28900   5   건성에 좋아요     보습에 좋아요  자극없이 순해요       건성   \n",
              "\n",
              "  user피부고민1 user피부고민2  \n",
              "0        미백      블랙헤드  \n",
              "1      다크서클        모공  \n",
              "2        모공        미백  \n",
              "3       민감성        잡티  \n",
              "4      블랙헤드        주름  "
            ]
          },
          "execution_count": 71,
          "metadata": {},
          "output_type": "execute_result"
        }
      ],
      "source": [
        "df3.head()"
      ]
    },
    {
      "cell_type": "markdown",
      "id": "05c02132",
      "metadata": {
        "id": "05c02132"
      },
      "source": [
        "### 컬럼명을 변경해줍니다.\n",
        "* 피부타입 -> 효과1  \n",
        "* 피부고민 -> 효과2  \n",
        "* user피부타입 -> 피부타입  \n",
        "* user피부고민1 -> 피부고민1  \n",
        "* user피부고민2 -> 피부고민2"
      ]
    },
    {
      "cell_type": "code",
      "execution_count": null,
      "id": "d3abb73f",
      "metadata": {
        "id": "d3abb73f",
        "outputId": "9a58dcbc-5b40-4f3a-a96c-e75efac1fa17"
      },
      "outputs": [
        {
          "data": {
            "text/html": [
              "<div>\n",
              "<style scoped>\n",
              "    .dataframe tbody tr th:only-of-type {\n",
              "        vertical-align: middle;\n",
              "    }\n",
              "\n",
              "    .dataframe tbody tr th {\n",
              "        vertical-align: top;\n",
              "    }\n",
              "\n",
              "    .dataframe thead th {\n",
              "        text-align: right;\n",
              "    }\n",
              "</style>\n",
              "<table border=\"1\" class=\"dataframe\">\n",
              "  <thead>\n",
              "    <tr style=\"text-align: right;\">\n",
              "      <th></th>\n",
              "      <th>상품명</th>\n",
              "      <th>카테고리</th>\n",
              "      <th>정가</th>\n",
              "      <th>할인가</th>\n",
              "      <th>별점</th>\n",
              "      <th>효과1</th>\n",
              "      <th>효과2</th>\n",
              "      <th>자극도</th>\n",
              "      <th>피부타입</th>\n",
              "      <th>피부고민1</th>\n",
              "      <th>피부고민2</th>\n",
              "    </tr>\n",
              "  </thead>\n",
              "  <tbody>\n",
              "    <tr>\n",
              "      <th>0</th>\n",
              "      <td>goodal</td>\n",
              "      <td>에센스/세럼</td>\n",
              "      <td>43000</td>\n",
              "      <td>28900</td>\n",
              "      <td>3</td>\n",
              "      <td>지성에 좋아요</td>\n",
              "      <td>주름/미백에 좋아요</td>\n",
              "      <td>자극없이 순해요</td>\n",
              "      <td>복합성</td>\n",
              "      <td>미백</td>\n",
              "      <td>블랙헤드</td>\n",
              "    </tr>\n",
              "    <tr>\n",
              "      <th>1</th>\n",
              "      <td>goodal</td>\n",
              "      <td>에센스/세럼</td>\n",
              "      <td>43000</td>\n",
              "      <td>28900</td>\n",
              "      <td>5</td>\n",
              "      <td>복합성에 좋아요</td>\n",
              "      <td>주름/미백에 좋아요</td>\n",
              "      <td>자극없이 순해요</td>\n",
              "      <td>복합성</td>\n",
              "      <td>다크서클</td>\n",
              "      <td>모공</td>\n",
              "    </tr>\n",
              "    <tr>\n",
              "      <th>2</th>\n",
              "      <td>goodal</td>\n",
              "      <td>에센스/세럼</td>\n",
              "      <td>43000</td>\n",
              "      <td>28900</td>\n",
              "      <td>5</td>\n",
              "      <td>건성에 좋아요</td>\n",
              "      <td>주름/미백에 좋아요</td>\n",
              "      <td>자극없이 순해요</td>\n",
              "      <td>지성</td>\n",
              "      <td>모공</td>\n",
              "      <td>미백</td>\n",
              "    </tr>\n",
              "    <tr>\n",
              "      <th>3</th>\n",
              "      <td>goodal</td>\n",
              "      <td>에센스/세럼</td>\n",
              "      <td>43000</td>\n",
              "      <td>28900</td>\n",
              "      <td>5</td>\n",
              "      <td>복합성에 좋아요</td>\n",
              "      <td>주름/미백에 좋아요</td>\n",
              "      <td>보통이에요</td>\n",
              "      <td>민감성</td>\n",
              "      <td>민감성</td>\n",
              "      <td>잡티</td>\n",
              "    </tr>\n",
              "    <tr>\n",
              "      <th>4</th>\n",
              "      <td>goodal</td>\n",
              "      <td>에센스/세럼</td>\n",
              "      <td>43000</td>\n",
              "      <td>28900</td>\n",
              "      <td>5</td>\n",
              "      <td>건성에 좋아요</td>\n",
              "      <td>보습에 좋아요</td>\n",
              "      <td>자극없이 순해요</td>\n",
              "      <td>건성</td>\n",
              "      <td>블랙헤드</td>\n",
              "      <td>주름</td>\n",
              "    </tr>\n",
              "  </tbody>\n",
              "</table>\n",
              "</div>"
            ],
            "text/plain": [
              "      상품명    카테고리     정가    할인가  별점       효과1         효과2       자극도 피부타입  \\\n",
              "0  goodal  에센스/세럼  43000  28900   3   지성에 좋아요  주름/미백에 좋아요  자극없이 순해요  복합성   \n",
              "1  goodal  에센스/세럼  43000  28900   5  복합성에 좋아요  주름/미백에 좋아요  자극없이 순해요  복합성   \n",
              "2  goodal  에센스/세럼  43000  28900   5   건성에 좋아요  주름/미백에 좋아요  자극없이 순해요   지성   \n",
              "3  goodal  에센스/세럼  43000  28900   5  복합성에 좋아요  주름/미백에 좋아요     보통이에요  민감성   \n",
              "4  goodal  에센스/세럼  43000  28900   5   건성에 좋아요     보습에 좋아요  자극없이 순해요   건성   \n",
              "\n",
              "   피부고민1  피부고민2  \n",
              "0     미백   블랙헤드  \n",
              "1   다크서클     모공  \n",
              "2     모공     미백  \n",
              "3    민감성     잡티  \n",
              "4   블랙헤드     주름  "
            ]
          },
          "execution_count": 72,
          "metadata": {},
          "output_type": "execute_result"
        }
      ],
      "source": [
        "df3.rename(columns = {\"피부타입\": \"효과1\", \"피부고민\":\"효과2\", \"user피부타입\":\"피부타입\", \"user피부고민1\":\"피부고민1\", \"user피부고민2\":\"피부고민2\"}, inplace=True)\n",
        "df3.head()"
      ]
    },
    {
      "cell_type": "code",
      "execution_count": null,
      "id": "60cee98c",
      "metadata": {
        "id": "60cee98c",
        "outputId": "94b18056-d279-42db-8db1-ab2613172f84"
      },
      "outputs": [
        {
          "data": {
            "text/plain": [
              "(3640, 11)"
            ]
          },
          "execution_count": 73,
          "metadata": {},
          "output_type": "execute_result"
        }
      ],
      "source": [
        "df3.shape"
      ]
    },
    {
      "cell_type": "markdown",
      "id": "d1ca7a56",
      "metadata": {
        "id": "d1ca7a56"
      },
      "source": [
        "## 데이터 인코딩"
      ]
    },
    {
      "cell_type": "code",
      "execution_count": null,
      "id": "c3566a73",
      "metadata": {
        "id": "c3566a73",
        "outputId": "6e2bb920-1e16-4767-ae01-01a7ce36a4a5"
      },
      "outputs": [
        {
          "data": {
            "text/plain": [
              "자극없이 순해요    2906\n",
              "보통이에요        684\n",
              "자극이 느껴져요      50\n",
              "Name: 자극도, dtype: int64"
            ]
          },
          "execution_count": 74,
          "metadata": {},
          "output_type": "execute_result"
        }
      ],
      "source": [
        "df3[\"자극도\"].value_counts()"
      ]
    },
    {
      "cell_type": "markdown",
      "id": "d4d5ad3d",
      "metadata": {
        "id": "d4d5ad3d"
      },
      "source": [
        "### 직접 함수를 만들어 자극도 컬럼을 레이블인코딩 합니다.\n",
        "* 자극없이 순해요 -> 0\n",
        "* 보통이에요 -> 1\n",
        "* 자극이 느껴져요 -> 2"
      ]
    },
    {
      "cell_type": "code",
      "execution_count": null,
      "id": "06b8cccc",
      "metadata": {
        "id": "06b8cccc",
        "outputId": "7807dcd8-b706-449e-c198-3cdf1235e874"
      },
      "outputs": [
        {
          "data": {
            "text/plain": [
              "0    2906\n",
              "1     684\n",
              "2      50\n",
              "Name: 자극도, dtype: int64"
            ]
          },
          "execution_count": 75,
          "metadata": {},
          "output_type": "execute_result"
        }
      ],
      "source": [
        "def 자극도인코딩(x):\n",
        "    if x == \"자극없이 순해요\":\n",
        "        return 0\n",
        "    elif x == \"보통이에요\":\n",
        "        return 1\n",
        "    elif x == \"자극이 느껴져요\":\n",
        "        return 2\n",
        "\n",
        "\n",
        "df3[\"자극도\"]=df3['자극도'].apply(자극도인코딩)\n",
        "df3[\"자극도\"].value_counts()"
      ]
    },
    {
      "cell_type": "markdown",
      "id": "5f2e465c",
      "metadata": {
        "id": "5f2e465c"
      },
      "source": [
        "### 상품명, 카테고리, 효과1, 효과2, 피부타입, 피부고민1, 피부고민2 은  get_dummies를 이용해 원핫인코딩을 합니다.\n",
        "결과를 df4에 저장합니다."
      ]
    },
    {
      "cell_type": "code",
      "execution_count": null,
      "id": "ca177fdf",
      "metadata": {
        "id": "ca177fdf",
        "outputId": "1923ff0c-8f61-4fa1-f665-f46a10e3d50e"
      },
      "outputs": [
        {
          "data": {
            "text/html": [
              "<div>\n",
              "<style scoped>\n",
              "    .dataframe tbody tr th:only-of-type {\n",
              "        vertical-align: middle;\n",
              "    }\n",
              "\n",
              "    .dataframe tbody tr th {\n",
              "        vertical-align: top;\n",
              "    }\n",
              "\n",
              "    .dataframe thead th {\n",
              "        text-align: right;\n",
              "    }\n",
              "</style>\n",
              "<table border=\"1\" class=\"dataframe\">\n",
              "  <thead>\n",
              "    <tr style=\"text-align: right;\">\n",
              "      <th></th>\n",
              "      <th>정가</th>\n",
              "      <th>할인가</th>\n",
              "      <th>별점</th>\n",
              "      <th>자극도</th>\n",
              "      <th>상품명_aestura</th>\n",
              "      <th>상품명_anua</th>\n",
              "      <th>상품명_d_alba</th>\n",
              "      <th>상품명_dr_g</th>\n",
              "      <th>상품명_goodal</th>\n",
              "      <th>상품명_s_nature</th>\n",
              "      <th>...</th>\n",
              "      <th>피부고민2_ 미백</th>\n",
              "      <th>피부고민2_ 민감성</th>\n",
              "      <th>피부고민2_ 블랙헤드</th>\n",
              "      <th>피부고민2_ 아토피</th>\n",
              "      <th>피부고민2_ 잡티</th>\n",
              "      <th>피부고민2_ 주름</th>\n",
              "      <th>피부고민2_ 탄력</th>\n",
              "      <th>피부고민2_ 트러블</th>\n",
              "      <th>피부고민2_ 피지과다</th>\n",
              "      <th>피부고민2_ 홍조</th>\n",
              "    </tr>\n",
              "  </thead>\n",
              "  <tbody>\n",
              "    <tr>\n",
              "      <th>0</th>\n",
              "      <td>43000</td>\n",
              "      <td>28900</td>\n",
              "      <td>3</td>\n",
              "      <td>0</td>\n",
              "      <td>0</td>\n",
              "      <td>0</td>\n",
              "      <td>0</td>\n",
              "      <td>0</td>\n",
              "      <td>1</td>\n",
              "      <td>0</td>\n",
              "      <td>...</td>\n",
              "      <td>0</td>\n",
              "      <td>0</td>\n",
              "      <td>1</td>\n",
              "      <td>0</td>\n",
              "      <td>0</td>\n",
              "      <td>0</td>\n",
              "      <td>0</td>\n",
              "      <td>0</td>\n",
              "      <td>0</td>\n",
              "      <td>0</td>\n",
              "    </tr>\n",
              "    <tr>\n",
              "      <th>1</th>\n",
              "      <td>43000</td>\n",
              "      <td>28900</td>\n",
              "      <td>5</td>\n",
              "      <td>0</td>\n",
              "      <td>0</td>\n",
              "      <td>0</td>\n",
              "      <td>0</td>\n",
              "      <td>0</td>\n",
              "      <td>1</td>\n",
              "      <td>0</td>\n",
              "      <td>...</td>\n",
              "      <td>0</td>\n",
              "      <td>0</td>\n",
              "      <td>0</td>\n",
              "      <td>0</td>\n",
              "      <td>0</td>\n",
              "      <td>0</td>\n",
              "      <td>0</td>\n",
              "      <td>0</td>\n",
              "      <td>0</td>\n",
              "      <td>0</td>\n",
              "    </tr>\n",
              "    <tr>\n",
              "      <th>2</th>\n",
              "      <td>43000</td>\n",
              "      <td>28900</td>\n",
              "      <td>5</td>\n",
              "      <td>0</td>\n",
              "      <td>0</td>\n",
              "      <td>0</td>\n",
              "      <td>0</td>\n",
              "      <td>0</td>\n",
              "      <td>1</td>\n",
              "      <td>0</td>\n",
              "      <td>...</td>\n",
              "      <td>1</td>\n",
              "      <td>0</td>\n",
              "      <td>0</td>\n",
              "      <td>0</td>\n",
              "      <td>0</td>\n",
              "      <td>0</td>\n",
              "      <td>0</td>\n",
              "      <td>0</td>\n",
              "      <td>0</td>\n",
              "      <td>0</td>\n",
              "    </tr>\n",
              "    <tr>\n",
              "      <th>3</th>\n",
              "      <td>43000</td>\n",
              "      <td>28900</td>\n",
              "      <td>5</td>\n",
              "      <td>1</td>\n",
              "      <td>0</td>\n",
              "      <td>0</td>\n",
              "      <td>0</td>\n",
              "      <td>0</td>\n",
              "      <td>1</td>\n",
              "      <td>0</td>\n",
              "      <td>...</td>\n",
              "      <td>0</td>\n",
              "      <td>0</td>\n",
              "      <td>0</td>\n",
              "      <td>0</td>\n",
              "      <td>1</td>\n",
              "      <td>0</td>\n",
              "      <td>0</td>\n",
              "      <td>0</td>\n",
              "      <td>0</td>\n",
              "      <td>0</td>\n",
              "    </tr>\n",
              "    <tr>\n",
              "      <th>4</th>\n",
              "      <td>43000</td>\n",
              "      <td>28900</td>\n",
              "      <td>5</td>\n",
              "      <td>0</td>\n",
              "      <td>0</td>\n",
              "      <td>0</td>\n",
              "      <td>0</td>\n",
              "      <td>0</td>\n",
              "      <td>1</td>\n",
              "      <td>0</td>\n",
              "      <td>...</td>\n",
              "      <td>0</td>\n",
              "      <td>0</td>\n",
              "      <td>0</td>\n",
              "      <td>0</td>\n",
              "      <td>0</td>\n",
              "      <td>1</td>\n",
              "      <td>0</td>\n",
              "      <td>0</td>\n",
              "      <td>0</td>\n",
              "      <td>0</td>\n",
              "    </tr>\n",
              "  </tbody>\n",
              "</table>\n",
              "<p>5 rows × 52 columns</p>\n",
              "</div>"
            ],
            "text/plain": [
              "      정가    할인가  별점  자극도  상품명_aestura  상품명_anua  상품명_d_alba  상품명_dr_g  \\\n",
              "0  43000  28900   3    0            0         0           0         0   \n",
              "1  43000  28900   5    0            0         0           0         0   \n",
              "2  43000  28900   5    0            0         0           0         0   \n",
              "3  43000  28900   5    1            0         0           0         0   \n",
              "4  43000  28900   5    0            0         0           0         0   \n",
              "\n",
              "   상품명_goodal  상품명_s_nature  ...  피부고민2_ 미백  피부고민2_ 민감성  피부고민2_ 블랙헤드  \\\n",
              "0           1             0  ...          0           0            1   \n",
              "1           1             0  ...          0           0            0   \n",
              "2           1             0  ...          1           0            0   \n",
              "3           1             0  ...          0           0            0   \n",
              "4           1             0  ...          0           0            0   \n",
              "\n",
              "   피부고민2_ 아토피  피부고민2_ 잡티  피부고민2_ 주름  피부고민2_ 탄력  피부고민2_ 트러블  피부고민2_ 피지과다  \\\n",
              "0           0          0          0          0           0            0   \n",
              "1           0          0          0          0           0            0   \n",
              "2           0          0          0          0           0            0   \n",
              "3           0          1          0          0           0            0   \n",
              "4           0          0          1          0           0            0   \n",
              "\n",
              "   피부고민2_ 홍조  \n",
              "0          0  \n",
              "1          0  \n",
              "2          0  \n",
              "3          0  \n",
              "4          0  \n",
              "\n",
              "[5 rows x 52 columns]"
            ]
          },
          "execution_count": 76,
          "metadata": {},
          "output_type": "execute_result"
        }
      ],
      "source": [
        "df4= pd.get_dummies(df3, columns = ['상품명', '카테고리', '효과1', '효과2', '피부타입', '피부고민1', '피부고민2'])\n",
        "df4.head()"
      ]
    },
    {
      "cell_type": "markdown",
      "id": "0ccbd6e3",
      "metadata": {
        "id": "0ccbd6e3"
      },
      "source": [
        "# 랜덤포레스트"
      ]
    },
    {
      "cell_type": "markdown",
      "id": "1c770ec2",
      "metadata": {
        "id": "1c770ec2"
      },
      "source": [
        "#### 피처값과 타겟값을 지정해줍니다. (target : 별점, 피처는 별점 제외 모든 컬럼)"
      ]
    },
    {
      "cell_type": "code",
      "execution_count": null,
      "id": "703244f1",
      "metadata": {
        "id": "703244f1"
      },
      "outputs": [],
      "source": [
        "feature = df4.loc[:, df4.columns != \"별점\"]\n",
        "target= df4.loc[:, \"별점\"]"
      ]
    },
    {
      "cell_type": "markdown",
      "id": "4d0ee21e",
      "metadata": {
        "id": "4d0ee21e"
      },
      "source": [
        "#### 저장한 피처와 타겟을 가지고 train : test 데이터를 8:2로 나누어 줍니다. random_state = 50"
      ]
    },
    {
      "cell_type": "code",
      "execution_count": null,
      "id": "7e7f9d81",
      "metadata": {
        "id": "7e7f9d81"
      },
      "outputs": [],
      "source": [
        "from sklearn.model_selection import train_test_split\n",
        "\n",
        "X_train, X_test, y_train, y_test = train_test_split(feature, target, test_size=0.2, random_state=50)"
      ]
    },
    {
      "cell_type": "markdown",
      "id": "8ebe350f",
      "metadata": {
        "id": "8ebe350f"
      },
      "source": [
        "#### df4의 별점의 분포를 막대그래프로 시각화하여 불균형한지 확인합니다."
      ]
    },
    {
      "cell_type": "code",
      "execution_count": null,
      "id": "368cbb8c",
      "metadata": {
        "id": "368cbb8c",
        "outputId": "0043e177-39b8-4008-8ca6-a501af114f97"
      },
      "outputs": [
        {
          "data": {
            "text/plain": [
              "<AxesSubplot: >"
            ]
          },
          "execution_count": 79,
          "metadata": {},
          "output_type": "execute_result"
        },
        {
          "data": {
            "image/png": "[encoded data removed]",
            "text/plain": [
              "<Figure size 640x480 with 1 Axes>"
            ]
          },
          "metadata": {},
          "output_type": "display_data"
        }
      ],
      "source": [
        "#한글 깨짐 방지\n",
        "plt.rcParams['font.family'] ='Malgun Gothic'\n",
        "plt.rcParams['axes.unicode_minus'] =False\n",
        "\n",
        "#막대그래프 코드 작성\n",
        "target.value_counts().sort_values(ascending=False).plot.bar()"
      ]
    },
    {
      "cell_type": "markdown",
      "id": "4b36a2ba",
      "metadata": {
        "id": "4b36a2ba"
      },
      "source": [
        "### 불균형한 데이터 샘플링 SMOTE 활용"
      ]
    },
    {
      "cell_type": "code",
      "execution_count": null,
      "id": "53d7826c",
      "metadata": {
        "id": "53d7826c",
        "outputId": "47371b9a-feb8-4fb1-e1db-0b1a36fbb9ac"
      },
      "outputs": [
        {
          "name": "stdout",
          "output_type": "stream",
          "text": [
            "SMOTE 적용 전 train 데이터셋 shape :  (2912, 51) (2912,)\n",
            "SMOTE 적용 후 train 데이터셋 shape : (12170, 51) (12170,)\n",
            "SMOTE 적용 후 train 타겟 별점 분포 5    2434\n",
            "4    2434\n",
            "3    2434\n",
            "2    2434\n",
            "1    2434\n",
            "Name: 별점, dtype: int64\n"
          ]
        }
      ],
      "source": [
        "#불균형 데이터 오버샘플링 SMOTE\n",
        "from imblearn.over_sampling import SMOTE\n",
        "\n",
        "smote = SMOTE(random_state=42)\n",
        "X_train_over, y_train_over = smote.fit_resample(X_train, y_train)\n",
        "\n",
        "print(\"SMOTE 적용 전 train 데이터셋 shape : \", X_train.shape, y_train.shape)\n",
        "print('SMOTE 적용 후 train 데이터셋 shape :', X_train_over.shape, y_train_over.shape)\n",
        "print('SMOTE 적용 후 train 타겟 별점 분포',y_train_over.value_counts() )"
      ]
    },
    {
      "cell_type": "markdown",
      "id": "de42b99e",
      "metadata": {
        "id": "de42b99e"
      },
      "source": [
        "### 데이터 스케일링\n",
        "피처의 단위를 동일하게 만들기 위해 StandardScaler로 스케일링을 진행합니다."
      ]
    },
    {
      "cell_type": "code",
      "execution_count": null,
      "id": "46d025c5",
      "metadata": {
        "id": "46d025c5"
      },
      "outputs": [],
      "source": [
        "from sklearn.preprocessing import StandardScaler\n",
        "scaler = StandardScaler()\n",
        "\n",
        "X_train_scaled = scaler.fit_transform(X_train_over)\n",
        "X_test_scaled = scaler.fit_transform(X_test)"
      ]
    },
    {
      "cell_type": "markdown",
      "id": "8504f15d",
      "metadata": {
        "id": "8504f15d"
      },
      "source": [
        "### 그리드서치로 최적의 파라미터 찾기\n",
        "1. 지정할 파라미터와 값을 params에 저장합니다.  \n",
        "2. 랜덤포레스트 모델을 생성하고 rfc로 할당합니다. (random_state=100, n_jobs=-1)  \n",
        "3. 그리드서치를 실행하여 grid_cv로 할당합니다. (cv=3, n_jobs=-1)\n",
        "4. 스케일링 완료한 훈련 데이터를 grid_cv에 fit해줍니다.\n",
        "5. 최적의 파라미터를 print 합니다."
      ]
    },
    {
      "cell_type": "code",
      "execution_count": null,
      "id": "6104be63",
      "metadata": {
        "id": "6104be63",
        "outputId": "e96f36b5-0450-45f6-8299-fa1787f689d9"
      },
      "outputs": [
        {
          "name": "stdout",
          "output_type": "stream",
          "text": [
            "최적 파라미터: {'max_depth': 8, 'max_features': 20, 'min_samples_split': 10, 'n_estimators': 50}\n"
          ]
        }
      ],
      "source": [
        "from sklearn.model_selection import GridSearchCV\n",
        "from sklearn.ensemble import RandomForestClassifier\n",
        "\n",
        "#각 파라미터 값 넣기\n",
        "params = { 'n_estimators' : [30, 50, 70, 90, 110],\n",
        "           'max_depth' : [3, 4, 5, 6, 7, 8],\n",
        "           'max_features': [10, 20, 30, 40, 50],\n",
        "           'min_samples_split' : [10, 20, 30, 40, 50]\n",
        "            }\n",
        "\n",
        "\n",
        "rfc = RandomForestClassifier(random_state=100, n_jobs=-1)\n",
        "grid_cv = GridSearchCV(estimator = rfc, param_grid = params, scoring=\"accuracy\", cv = 3, n_jobs=-1)     # cv는 교차 검증을 위해 분할되는 학습 데이터의 세트 수\n",
        "grid_cv.fit(X_train_scaled, y_train_over)\n",
        "\n",
        "print(f'최적 파라미터: {grid_cv.best_params_}')"
      ]
    },
    {
      "cell_type": "markdown",
      "id": "76236670",
      "metadata": {
        "id": "76236670"
      },
      "source": [
        "### 랜덤포레스트 모델 훈련\n",
        "위에서 구한 최적 파라미터를 활용하여 랜덤포레스트 모델을 만들고 해당 모델로 다시 훈련시킵니다. random_state=100, n_jobs=-1"
      ]
    },
    {
      "cell_type": "code",
      "execution_count": null,
      "id": "07f0d014",
      "metadata": {
        "id": "07f0d014",
        "outputId": "fa232f07-d279-43b4-935b-85e6befdb162"
      },
      "outputs": [
        {
          "data": {
            "text/html": [
              "<style>#sk-container-id-1 {color: black;background-color: white;}#sk-container-id-1 pre{padding: 0;}#sk-container-id-1 div.sk-toggleable {background-color: white;}#sk-container-id-1 label.sk-toggleable__label {cursor: pointer;display: block;width: 100%;margin-bottom: 0;padding: 0.3em;box-sizing: border-box;text-align: center;}#sk-container-id-1 label.sk-toggleable__label-arrow:before {content: \"▸\";float: left;margin-right: 0.25em;color: #696969;}#sk-container-id-1 label.sk-toggleable__label-arrow:hover:before {color: black;}#sk-container-id-1 div.sk-estimator:hover label.sk-toggleable__label-arrow:before {color: black;}#sk-container-id-1 div.sk-toggleable__content {max-height: 0;max-width: 0;overflow: hidden;text-align: left;background-color: #f0f8ff;}#sk-container-id-1 div.sk-toggleable__content pre {margin: 0.2em;color: black;border-radius: 0.25em;background-color: #f0f8ff;}#sk-container-id-1 input.sk-toggleable__control:checked~div.sk-toggleable__content {max-height: 200px;max-width: 100%;overflow: auto;}#sk-container-id-1 input.sk-toggleable__control:checked~label.sk-toggleable__label-arrow:before {content: \"▾\";}#sk-container-id-1 div.sk-estimator input.sk-toggleable__control:checked~label.sk-toggleable__label {background-color: #d4ebff;}#sk-container-id-1 div.sk-label input.sk-toggleable__control:checked~label.sk-toggleable__label {background-color: #d4ebff;}#sk-container-id-1 input.sk-hidden--visually {border: 0;clip: rect(1px 1px 1px 1px);clip: rect(1px, 1px, 1px, 1px);height: 1px;margin: -1px;overflow: hidden;padding: 0;position: absolute;width: 1px;}#sk-container-id-1 div.sk-estimator {font-family: monospace;background-color: #f0f8ff;border: 1px dotted black;border-radius: 0.25em;box-sizing: border-box;margin-bottom: 0.5em;}#sk-container-id-1 div.sk-estimator:hover {background-color: #d4ebff;}#sk-container-id-1 div.sk-parallel-item::after {content: \"\";width: 100%;border-bottom: 1px solid gray;flex-grow: 1;}#sk-container-id-1 div.sk-label:hover label.sk-toggleable__label {background-color: #d4ebff;}#sk-container-id-1 div.sk-serial::before {content: \"\";position: absolute;border-left: 1px solid gray;box-sizing: border-box;top: 0;bottom: 0;left: 50%;z-index: 0;}#sk-container-id-1 div.sk-serial {display: flex;flex-direction: column;align-items: center;background-color: white;padding-right: 0.2em;padding-left: 0.2em;position: relative;}#sk-container-id-1 div.sk-item {position: relative;z-index: 1;}#sk-container-id-1 div.sk-parallel {display: flex;align-items: stretch;justify-content: center;background-color: white;position: relative;}#sk-container-id-1 div.sk-item::before, #sk-container-id-1 div.sk-parallel-item::before {content: \"\";position: absolute;border-left: 1px solid gray;box-sizing: border-box;top: 0;bottom: 0;left: 50%;z-index: -1;}#sk-container-id-1 div.sk-parallel-item {display: flex;flex-direction: column;z-index: 1;position: relative;background-color: white;}#sk-container-id-1 div.sk-parallel-item:first-child::after {align-self: flex-end;width: 50%;}#sk-container-id-1 div.sk-parallel-item:last-child::after {align-self: flex-start;width: 50%;}#sk-container-id-1 div.sk-parallel-item:only-child::after {width: 0;}#sk-container-id-1 div.sk-dashed-wrapped {border: 1px dashed gray;margin: 0 0.4em 0.5em 0.4em;box-sizing: border-box;padding-bottom: 0.4em;background-color: white;}#sk-container-id-1 div.sk-label label {font-family: monospace;font-weight: bold;display: inline-block;line-height: 1.2em;}#sk-container-id-1 div.sk-label-container {text-align: center;}#sk-container-id-1 div.sk-container {/* jupyter's `normalize.less` sets `[hidden] { display: none; }` but bootstrap.min.css set `[hidden] { display: none !important; }` so we also need the `!important` here to be able to override the default hidden behavior on the sphinx rendered scikit-learn.org. See: https://github.com/scikit-learn/scikit-learn/issues/21755 */display: inline-block !important;position: relative;}#sk-container-id-1 div.sk-text-repr-fallback {display: none;}</style><div id=\"sk-container-id-1\" class=\"sk-top-container\"><div class=\"sk-text-repr-fallback\"><pre>RandomForestClassifier(max_depth=8, max_features=20, min_samples_split=10,\n",
              "                       n_estimators=50, n_jobs=-1, random_state=100)</pre><b>In a Jupyter environment, please rerun this cell to show the HTML representation or trust the notebook. <br />On GitHub, the HTML representation is unable to render, please try loading this page with nbviewer.org.</b></div><div class=\"sk-container\" hidden><div class=\"sk-item\"><div class=\"sk-estimator sk-toggleable\"><input class=\"sk-toggleable__control sk-hidden--visually\" id=\"sk-estimator-id-1\" type=\"checkbox\" checked><label for=\"sk-estimator-id-1\" class=\"sk-toggleable__label sk-toggleable__label-arrow\">RandomForestClassifier</label><div class=\"sk-toggleable__content\"><pre>RandomForestClassifier(max_depth=8, max_features=20, min_samples_split=10,\n",
              "                       n_estimators=50, n_jobs=-1, random_state=100)</pre></div></div></div></div></div>"
            ],
            "text/plain": [
              "RandomForestClassifier(max_depth=8, max_features=20, min_samples_split=10,\n",
              "                       n_estimators=50, n_jobs=-1, random_state=100)"
            ]
          },
          "execution_count": 83,
          "metadata": {},
          "output_type": "execute_result"
        }
      ],
      "source": [
        "from sklearn.ensemble import RandomForestClassifier\n",
        "rfc= RandomForestClassifier(max_depth=8, max_features=20, min_samples_split=10, n_estimators=50, random_state=100, n_jobs=-1)\n",
        "rfc.fit(X_train_scaled, y_train_over)"
      ]
    },
    {
      "cell_type": "markdown",
      "id": "e3219092",
      "metadata": {
        "id": "e3219092"
      },
      "source": [
        " ### 모델 평가지표 결과값이 한번에 나오도록 함수 만들기\n",
        " 함수에 y_test와 pred를 입력하면 정확도, 정밀도, 재현율, f1스코어가 데이터 프레임으로 나오도록 함수를 만듭니다.  \n",
        " 단, 정확도, 정밀도, 재현율, f1스코어의 average는 모두 'micro'로 설정  \n",
        " 딕셔너리를 활용하여 데이터 프레임을 만들어주세요.  "
      ]
    },
    {
      "cell_type": "code",
      "execution_count": null,
      "id": "fab7e5cf",
      "metadata": {
        "id": "fab7e5cf"
      },
      "outputs": [],
      "source": [
        "from sklearn.metrics import accuracy_score, precision_score, recall_score,f1_score\n",
        "\n",
        "\n",
        "def _metrics(y_test, pred):\n",
        "    acc= accuracy_score(y_test, pred)\n",
        "    precision= precision_score(y_test, pred, average='micro')\n",
        "    recall= recall_score(y_test, pred, average='micro')\n",
        "    f1=f1_score(y_test, pred, average='micro')\n",
        "\n",
        "    dict_metrics= {\"accuracy\":acc, \"precision\":precision, \"recall\":recall, \"f1_score\":f1}\n",
        "    df_metrics=pd.DataFrame(dict_metrics, index=[0])\n",
        "\n",
        "    return df_metrics"
      ]
    },
    {
      "cell_type": "markdown",
      "id": "e9fa4def",
      "metadata": {
        "id": "e9fa4def"
      },
      "source": [
        "#### 스케일링한 test데이터를 가지고 모델에 적용하여 나온 예측값을 pred에 할당하고 평가지표함수로 성능을 확인합니다."
      ]
    },
    {
      "cell_type": "code",
      "execution_count": null,
      "id": "70dbc01d",
      "metadata": {
        "id": "70dbc01d",
        "outputId": "ac3fb362-f60d-46e9-811b-c054c63af742"
      },
      "outputs": [
        {
          "data": {
            "text/html": [
              "<div>\n",
              "<style scoped>\n",
              "    .dataframe tbody tr th:only-of-type {\n",
              "        vertical-align: middle;\n",
              "    }\n",
              "\n",
              "    .dataframe tbody tr th {\n",
              "        vertical-align: top;\n",
              "    }\n",
              "\n",
              "    .dataframe thead th {\n",
              "        text-align: right;\n",
              "    }\n",
              "</style>\n",
              "<table border=\"1\" class=\"dataframe\">\n",
              "  <thead>\n",
              "    <tr style=\"text-align: right;\">\n",
              "      <th></th>\n",
              "      <th>accuracy</th>\n",
              "      <th>precision</th>\n",
              "      <th>recall</th>\n",
              "      <th>f1_score</th>\n",
              "    </tr>\n",
              "  </thead>\n",
              "  <tbody>\n",
              "    <tr>\n",
              "      <th>0</th>\n",
              "      <td>0.537088</td>\n",
              "      <td>0.537088</td>\n",
              "      <td>0.537088</td>\n",
              "      <td>0.537088</td>\n",
              "    </tr>\n",
              "  </tbody>\n",
              "</table>\n",
              "</div>"
            ],
            "text/plain": [
              "   accuracy  precision    recall  f1_score\n",
              "0  0.537088   0.537088  0.537088  0.537088"
            ]
          },
          "execution_count": 85,
          "metadata": {},
          "output_type": "execute_result"
        }
      ],
      "source": [
        "pred = rfc.predict(X_test_scaled)\n",
        "\n",
        "_metrics(y_test,pred)"
      ]
    },
    {
      "cell_type": "markdown",
      "id": "e38ba83c",
      "metadata": {
        "id": "e38ba83c"
      },
      "source": [
        "### 피처 중요도 확인하기\n",
        "\n",
        "피처 중요도 값을 저장한 feat_importance 값을 내림차순하여 20개만 top_20에 할당합니다.  \n",
        "그 값을 가지고 barplot을 만들어 줍니다.\n",
        "* 제목 : 피처 중요도 Top2 20\n",
        "* figsize = (8,6)"
      ]
    },
    {
      "cell_type": "code",
      "execution_count": null,
      "id": "c6734d8c",
      "metadata": {
        "id": "c6734d8c",
        "outputId": "bca475c7-34d9-4992-9530-439aa3984321"
      },
      "outputs": [
        {
          "data": {
            "image/png": "[encoded data removed]",
            "text/plain": [
              "<Figure size 800x600 with 1 Axes>"
            ]
          },
          "metadata": {},
          "output_type": "display_data"
        }
      ],
      "source": [
        "import matplotlib.pyplot as plt\n",
        "import seaborn as sns\n",
        "\n",
        "#제공 코드\n",
        "feat_importance = pd.Series(rfc.feature_importances_, index=feature.columns)\n",
        "\n",
        "top20 = feat_importance.sort_values(ascending=False)[:20]\n",
        "\n",
        "#한글 깨짐 방지\n",
        "plt.rcParams['font.family'] ='Malgun Gothic'\n",
        "plt.rcParams['axes.unicode_minus'] =False\n",
        "\n",
        "\n",
        "plt.figure(figsize=(8,6))\n",
        "plt.title(\"피처 중요도 top20\")\n",
        "sns.barplot(x=top20.values, y=top20.index.values)\n",
        "plt.show()"
      ]
    },
    {
      "cell_type": "markdown",
      "id": "25111d93",
      "metadata": {
        "id": "25111d93"
      },
      "source": [
        "### 혼동행렬\n",
        "y_test와 예측값 pred를 이용하여 혼동행렬 생성하여 cf에 할당합니다."
      ]
    },
    {
      "cell_type": "code",
      "execution_count": null,
      "id": "2e04884d",
      "metadata": {
        "id": "2e04884d",
        "outputId": "26d71931-4c8a-4230-ca0d-75630276e7e3"
      },
      "outputs": [
        {
          "data": {
            "text/plain": [
              "array([[  0,   0,   0,   0,   0],\n",
              "       [  0,   1,   0,   1,   2],\n",
              "       [  3,   1,   3,   1,   9],\n",
              "       [ 11,   7,  14,  10,  52],\n",
              "       [ 75,  54,  31,  76, 377]], dtype=int64)"
            ]
          },
          "execution_count": 87,
          "metadata": {},
          "output_type": "execute_result"
        }
      ],
      "source": [
        "from sklearn.metrics import confusion_matrix\n",
        "\n",
        "cf = confusion_matrix(y_test, pred)\n",
        "cf"
      ]
    },
    {
      "cell_type": "markdown",
      "id": "6f03d755",
      "metadata": {
        "id": "6f03d755"
      },
      "source": [
        "### 혼동행렬 시각화\n",
        "cf를 데이터 프레임(cf_matrix)으로 만든 후 컬럼명과, 인덱스를 1~5점으로 저장합니다.   \n",
        "데이터 프레임을 heatmap으로 만들어 줍니다. ( annot=True  -> 각 셀에 숫자 입력 , fmt='d'  -> 정수형으로 나오도록함)   \n",
        "x라벨 : 예측값, y라벨 : 실제값"
      ]
    },
    {
      "cell_type": "code",
      "execution_count": null,
      "id": "e8f91198",
      "metadata": {
        "id": "e8f91198",
        "outputId": "8805e6ff-0f21-4301-ca39-681cf47365be"
      },
      "outputs": [
        {
          "data": {
            "text/html": [
              "<div>\n",
              "<style scoped>\n",
              "    .dataframe tbody tr th:only-of-type {\n",
              "        vertical-align: middle;\n",
              "    }\n",
              "\n",
              "    .dataframe tbody tr th {\n",
              "        vertical-align: top;\n",
              "    }\n",
              "\n",
              "    .dataframe thead th {\n",
              "        text-align: right;\n",
              "    }\n",
              "</style>\n",
              "<table border=\"1\" class=\"dataframe\">\n",
              "  <thead>\n",
              "    <tr style=\"text-align: right;\">\n",
              "      <th></th>\n",
              "      <th>0</th>\n",
              "      <th>1</th>\n",
              "      <th>2</th>\n",
              "      <th>3</th>\n",
              "      <th>4</th>\n",
              "    </tr>\n",
              "  </thead>\n",
              "  <tbody>\n",
              "    <tr>\n",
              "      <th>0</th>\n",
              "      <td>0</td>\n",
              "      <td>0</td>\n",
              "      <td>0</td>\n",
              "      <td>0</td>\n",
              "      <td>0</td>\n",
              "    </tr>\n",
              "    <tr>\n",
              "      <th>1</th>\n",
              "      <td>0</td>\n",
              "      <td>1</td>\n",
              "      <td>0</td>\n",
              "      <td>1</td>\n",
              "      <td>2</td>\n",
              "    </tr>\n",
              "    <tr>\n",
              "      <th>2</th>\n",
              "      <td>3</td>\n",
              "      <td>1</td>\n",
              "      <td>3</td>\n",
              "      <td>1</td>\n",
              "      <td>9</td>\n",
              "    </tr>\n",
              "    <tr>\n",
              "      <th>3</th>\n",
              "      <td>11</td>\n",
              "      <td>7</td>\n",
              "      <td>14</td>\n",
              "      <td>10</td>\n",
              "      <td>52</td>\n",
              "    </tr>\n",
              "    <tr>\n",
              "      <th>4</th>\n",
              "      <td>75</td>\n",
              "      <td>54</td>\n",
              "      <td>31</td>\n",
              "      <td>76</td>\n",
              "      <td>377</td>\n",
              "    </tr>\n",
              "  </tbody>\n",
              "</table>\n",
              "</div>"
            ],
            "text/plain": [
              "    0   1   2   3    4\n",
              "0   0   0   0   0    0\n",
              "1   0   1   0   1    2\n",
              "2   3   1   3   1    9\n",
              "3  11   7  14  10   52\n",
              "4  75  54  31  76  377"
            ]
          },
          "execution_count": 88,
          "metadata": {},
          "output_type": "execute_result"
        }
      ],
      "source": [
        "cf_matrix= pd.DataFrame(cf)\n",
        "cf_matrix"
      ]
    },
    {
      "cell_type": "code",
      "execution_count": null,
      "id": "551e4e20",
      "metadata": {
        "id": "551e4e20",
        "outputId": "df2adb59-e6d1-4097-8b3f-094fcc6410da"
      },
      "outputs": [
        {
          "data": {
            "image/png": "[encoded data removed]",
            "text/plain": [
              "<Figure size 640x480 with 2 Axes>"
            ]
          },
          "metadata": {},
          "output_type": "display_data"
        }
      ],
      "source": [
        "cf_matrix= pd.DataFrame(cf)\n",
        "cf_matrix.columns = [1, 2, 3, 4, 5]\n",
        "cf_matrix.index = [1, 2, 3, 4, 5]\n",
        "\n",
        "#히트맵 코드 작성\n",
        "sns.heatmap(cf_matrix, annot=True, fmt='d')\n",
        "plt.xlabel(\"예측값\")\n",
        "plt.ylabel(\"실제값\")\n",
        "plt.show()"
      ]
    },
    {
      "cell_type": "markdown",
      "id": "9513816c",
      "metadata": {
        "id": "9513816c"
      },
      "source": [
        "# KNN"
      ]
    },
    {
      "cell_type": "markdown",
      "id": "cdc4282e",
      "metadata": {
        "id": "cdc4282e"
      },
      "source": [
        "### 랜덤포레스트와 데이터 스케일링까지 과정이 반복됨"
      ]
    },
    {
      "cell_type": "code",
      "execution_count": null,
      "id": "808ba1f3",
      "metadata": {
        "id": "808ba1f3",
        "outputId": "f14c844f-5e10-4ed1-8ada-0e961a91b6df"
      },
      "outputs": [
        {
          "data": {
            "text/html": [
              "<div>\n",
              "<style scoped>\n",
              "    .dataframe tbody tr th:only-of-type {\n",
              "        vertical-align: middle;\n",
              "    }\n",
              "\n",
              "    .dataframe tbody tr th {\n",
              "        vertical-align: top;\n",
              "    }\n",
              "\n",
              "    .dataframe thead th {\n",
              "        text-align: right;\n",
              "    }\n",
              "</style>\n",
              "<table border=\"1\" class=\"dataframe\">\n",
              "  <thead>\n",
              "    <tr style=\"text-align: right;\">\n",
              "      <th></th>\n",
              "      <th>정가</th>\n",
              "      <th>할인가</th>\n",
              "      <th>별점</th>\n",
              "      <th>자극도</th>\n",
              "      <th>상품명_aestura</th>\n",
              "      <th>상품명_anua</th>\n",
              "      <th>상품명_d_alba</th>\n",
              "      <th>상품명_dr_g</th>\n",
              "      <th>상품명_goodal</th>\n",
              "      <th>상품명_s_nature</th>\n",
              "      <th>...</th>\n",
              "      <th>피부고민2_ 미백</th>\n",
              "      <th>피부고민2_ 민감성</th>\n",
              "      <th>피부고민2_ 블랙헤드</th>\n",
              "      <th>피부고민2_ 아토피</th>\n",
              "      <th>피부고민2_ 잡티</th>\n",
              "      <th>피부고민2_ 주름</th>\n",
              "      <th>피부고민2_ 탄력</th>\n",
              "      <th>피부고민2_ 트러블</th>\n",
              "      <th>피부고민2_ 피지과다</th>\n",
              "      <th>피부고민2_ 홍조</th>\n",
              "    </tr>\n",
              "  </thead>\n",
              "  <tbody>\n",
              "    <tr>\n",
              "      <th>0</th>\n",
              "      <td>43000</td>\n",
              "      <td>28900</td>\n",
              "      <td>3</td>\n",
              "      <td>0</td>\n",
              "      <td>0</td>\n",
              "      <td>0</td>\n",
              "      <td>0</td>\n",
              "      <td>0</td>\n",
              "      <td>1</td>\n",
              "      <td>0</td>\n",
              "      <td>...</td>\n",
              "      <td>0</td>\n",
              "      <td>0</td>\n",
              "      <td>1</td>\n",
              "      <td>0</td>\n",
              "      <td>0</td>\n",
              "      <td>0</td>\n",
              "      <td>0</td>\n",
              "      <td>0</td>\n",
              "      <td>0</td>\n",
              "      <td>0</td>\n",
              "    </tr>\n",
              "    <tr>\n",
              "      <th>1</th>\n",
              "      <td>43000</td>\n",
              "      <td>28900</td>\n",
              "      <td>5</td>\n",
              "      <td>0</td>\n",
              "      <td>0</td>\n",
              "      <td>0</td>\n",
              "      <td>0</td>\n",
              "      <td>0</td>\n",
              "      <td>1</td>\n",
              "      <td>0</td>\n",
              "      <td>...</td>\n",
              "      <td>0</td>\n",
              "      <td>0</td>\n",
              "      <td>0</td>\n",
              "      <td>0</td>\n",
              "      <td>0</td>\n",
              "      <td>0</td>\n",
              "      <td>0</td>\n",
              "      <td>0</td>\n",
              "      <td>0</td>\n",
              "      <td>0</td>\n",
              "    </tr>\n",
              "    <tr>\n",
              "      <th>2</th>\n",
              "      <td>43000</td>\n",
              "      <td>28900</td>\n",
              "      <td>5</td>\n",
              "      <td>0</td>\n",
              "      <td>0</td>\n",
              "      <td>0</td>\n",
              "      <td>0</td>\n",
              "      <td>0</td>\n",
              "      <td>1</td>\n",
              "      <td>0</td>\n",
              "      <td>...</td>\n",
              "      <td>1</td>\n",
              "      <td>0</td>\n",
              "      <td>0</td>\n",
              "      <td>0</td>\n",
              "      <td>0</td>\n",
              "      <td>0</td>\n",
              "      <td>0</td>\n",
              "      <td>0</td>\n",
              "      <td>0</td>\n",
              "      <td>0</td>\n",
              "    </tr>\n",
              "    <tr>\n",
              "      <th>3</th>\n",
              "      <td>43000</td>\n",
              "      <td>28900</td>\n",
              "      <td>5</td>\n",
              "      <td>1</td>\n",
              "      <td>0</td>\n",
              "      <td>0</td>\n",
              "      <td>0</td>\n",
              "      <td>0</td>\n",
              "      <td>1</td>\n",
              "      <td>0</td>\n",
              "      <td>...</td>\n",
              "      <td>0</td>\n",
              "      <td>0</td>\n",
              "      <td>0</td>\n",
              "      <td>0</td>\n",
              "      <td>1</td>\n",
              "      <td>0</td>\n",
              "      <td>0</td>\n",
              "      <td>0</td>\n",
              "      <td>0</td>\n",
              "      <td>0</td>\n",
              "    </tr>\n",
              "    <tr>\n",
              "      <th>4</th>\n",
              "      <td>43000</td>\n",
              "      <td>28900</td>\n",
              "      <td>5</td>\n",
              "      <td>0</td>\n",
              "      <td>0</td>\n",
              "      <td>0</td>\n",
              "      <td>0</td>\n",
              "      <td>0</td>\n",
              "      <td>1</td>\n",
              "      <td>0</td>\n",
              "      <td>...</td>\n",
              "      <td>0</td>\n",
              "      <td>0</td>\n",
              "      <td>0</td>\n",
              "      <td>0</td>\n",
              "      <td>0</td>\n",
              "      <td>1</td>\n",
              "      <td>0</td>\n",
              "      <td>0</td>\n",
              "      <td>0</td>\n",
              "      <td>0</td>\n",
              "    </tr>\n",
              "  </tbody>\n",
              "</table>\n",
              "<p>5 rows × 52 columns</p>\n",
              "</div>"
            ],
            "text/plain": [
              "      정가    할인가  별점  자극도  상품명_aestura  상품명_anua  상품명_d_alba  상품명_dr_g  \\\n",
              "0  43000  28900   3    0            0         0           0         0   \n",
              "1  43000  28900   5    0            0         0           0         0   \n",
              "2  43000  28900   5    0            0         0           0         0   \n",
              "3  43000  28900   5    1            0         0           0         0   \n",
              "4  43000  28900   5    0            0         0           0         0   \n",
              "\n",
              "   상품명_goodal  상품명_s_nature  ...  피부고민2_ 미백  피부고민2_ 민감성  피부고민2_ 블랙헤드  \\\n",
              "0           1             0  ...          0           0            1   \n",
              "1           1             0  ...          0           0            0   \n",
              "2           1             0  ...          1           0            0   \n",
              "3           1             0  ...          0           0            0   \n",
              "4           1             0  ...          0           0            0   \n",
              "\n",
              "   피부고민2_ 아토피  피부고민2_ 잡티  피부고민2_ 주름  피부고민2_ 탄력  피부고민2_ 트러블  피부고민2_ 피지과다  \\\n",
              "0           0          0          0          0           0            0   \n",
              "1           0          0          0          0           0            0   \n",
              "2           0          0          0          0           0            0   \n",
              "3           0          1          0          0           0            0   \n",
              "4           0          0          1          0           0            0   \n",
              "\n",
              "   피부고민2_ 홍조  \n",
              "0          0  \n",
              "1          0  \n",
              "2          0  \n",
              "3          0  \n",
              "4          0  \n",
              "\n",
              "[5 rows x 52 columns]"
            ]
          },
          "execution_count": 90,
          "metadata": {},
          "output_type": "execute_result"
        }
      ],
      "source": [
        "#데이터 다시 확인해보기\n",
        "df4.head()"
      ]
    },
    {
      "cell_type": "markdown",
      "id": "dac5d49f",
      "metadata": {
        "id": "dac5d49f"
      },
      "source": [
        "#### 피처값과 타겟값  (target : 별점, 피처는 별점 제외 모든 컬럼)"
      ]
    },
    {
      "cell_type": "code",
      "execution_count": null,
      "id": "123560de",
      "metadata": {
        "id": "123560de"
      },
      "outputs": [],
      "source": [
        "features=df4.loc[:, df4.columns != \"별점\"]\n",
        "target= df4.loc[:, '별점']"
      ]
    },
    {
      "cell_type": "markdown",
      "id": "36febf3e",
      "metadata": {
        "id": "36febf3e"
      },
      "source": [
        "#### 저장한 피처와 타겟을 가지고 train : test 데이터를 8:2로 나누어 줍니다. random_state = 50"
      ]
    },
    {
      "cell_type": "code",
      "execution_count": null,
      "id": "01188865",
      "metadata": {
        "id": "01188865"
      },
      "outputs": [],
      "source": [
        "from sklearn.neighbors import KNeighborsClassifier\n",
        "from sklearn.model_selection import train_test_split\n",
        "\n",
        "#train/test 데이터 분리 8:2로\n",
        "X_train, X_test, y_train, y_test = train_test_split(features, target, test_size=0.2, random_state=50)"
      ]
    },
    {
      "cell_type": "markdown",
      "id": "79526ee8",
      "metadata": {
        "id": "79526ee8"
      },
      "source": [
        "#### 불균형 데이터 smote로 오버샘플링"
      ]
    },
    {
      "cell_type": "code",
      "execution_count": null,
      "id": "0e0df86d",
      "metadata": {
        "id": "0e0df86d"
      },
      "outputs": [],
      "source": [
        "from imblearn.over_sampling import SMOTE\n",
        "smote = SMOTE(random_state=42)\n",
        "X_train_over, y_train_over = smote.fit_resample(X_train, y_train)"
      ]
    },
    {
      "cell_type": "markdown",
      "id": "40293bb4",
      "metadata": {
        "id": "40293bb4"
      },
      "source": [
        "#### 피처의 단위를 동일하게 만들기 위해 StandardScaler로 스케일링을 진행합니다."
      ]
    },
    {
      "cell_type": "code",
      "execution_count": null,
      "id": "7d963e07",
      "metadata": {
        "id": "7d963e07"
      },
      "outputs": [],
      "source": [
        "from sklearn.preprocessing import StandardScaler\n",
        "scaler = StandardScaler()\n",
        "\n",
        "X_train_scaled = scaler.fit_transform(X_train_over)\n",
        "X_test_scaled = scaler.fit_transform(X_test)"
      ]
    },
    {
      "cell_type": "markdown",
      "id": "b5d33f09",
      "metadata": {
        "id": "b5d33f09"
      },
      "source": [
        "### 그리드서치로 최적의 파라미터 찾기\n",
        "1. 지정할 파라미터와 값을 knn_params에 저장합니다.  \n",
        "2. KNN 모델을 생성하고 knn으로 할당합니다. (n_jobs=-1)  \n",
        "3. 그리드서치를 실행하여 grid_cv로 할당합니다. (cv=5, n_jobs=-1)\n",
        "4. 스케일링 완료한 훈련 데이터를 grid_cv에 fit해줍니다.\n",
        "5. 최적의 파라미터를 print 합니다."
      ]
    },
    {
      "cell_type": "code",
      "execution_count": null,
      "id": "a7a0c7c4",
      "metadata": {
        "id": "a7a0c7c4",
        "outputId": "b6f73852-5885-404a-f3b4-7d2ccf54820b"
      },
      "outputs": [
        {
          "name": "stdout",
          "output_type": "stream",
          "text": [
            "최적 하이퍼 파라미터: {'n_neighbors': 4, 'weights': 'distance'}\n"
          ]
        }
      ],
      "source": [
        "from sklearn.neighbors import KNeighborsClassifier\n",
        "from sklearn.model_selection import GridSearchCV\n",
        "\n",
        "#각 파라미터 값 넣기\n",
        "knn_params = {\n",
        "    'n_neighbors' : [3, 4, 5, 6, 7, 8, 9, 10],\n",
        "    'weights' : ['uniform', 'distance']\n",
        "}\n",
        "\n",
        "knn= KNeighborsClassifier(n_jobs=-1)\n",
        "\n",
        "grid_cv=GridSearchCV(estimator=knn, param_grid=knn_params, scoring=\"accuracy\", cv=5, n_jobs=-1)\n",
        "grid_cv.fit(X_train_scaled,y_train_over)\n",
        "\n",
        "\n",
        "print(f'최적 하이퍼 파라미터: {grid_cv.best_params_}')"
      ]
    },
    {
      "cell_type": "markdown",
      "id": "47bd42eb",
      "metadata": {
        "id": "47bd42eb"
      },
      "source": [
        "### KNN 모델 훈련\n",
        "위에서 구한 최적 파라미터를 활용하여 knn 모델을 만들고 해당 모델로 다시 훈련시킵니다. n_jobs=-1"
      ]
    },
    {
      "cell_type": "code",
      "execution_count": null,
      "id": "4ce46b64",
      "metadata": {
        "id": "4ce46b64",
        "outputId": "df7eafde-ea47-4153-f88f-5aaac8f12139"
      },
      "outputs": [
        {
          "data": {
            "text/html": [
              "<style>#sk-container-id-2 {color: black;background-color: white;}#sk-container-id-2 pre{padding: 0;}#sk-container-id-2 div.sk-toggleable {background-color: white;}#sk-container-id-2 label.sk-toggleable__label {cursor: pointer;display: block;width: 100%;margin-bottom: 0;padding: 0.3em;box-sizing: border-box;text-align: center;}#sk-container-id-2 label.sk-toggleable__label-arrow:before {content: \"▸\";float: left;margin-right: 0.25em;color: #696969;}#sk-container-id-2 label.sk-toggleable__label-arrow:hover:before {color: black;}#sk-container-id-2 div.sk-estimator:hover label.sk-toggleable__label-arrow:before {color: black;}#sk-container-id-2 div.sk-toggleable__content {max-height: 0;max-width: 0;overflow: hidden;text-align: left;background-color: #f0f8ff;}#sk-container-id-2 div.sk-toggleable__content pre {margin: 0.2em;color: black;border-radius: 0.25em;background-color: #f0f8ff;}#sk-container-id-2 input.sk-toggleable__control:checked~div.sk-toggleable__content {max-height: 200px;max-width: 100%;overflow: auto;}#sk-container-id-2 input.sk-toggleable__control:checked~label.sk-toggleable__label-arrow:before {content: \"▾\";}#sk-container-id-2 div.sk-estimator input.sk-toggleable__control:checked~label.sk-toggleable__label {background-color: #d4ebff;}#sk-container-id-2 div.sk-label input.sk-toggleable__control:checked~label.sk-toggleable__label {background-color: #d4ebff;}#sk-container-id-2 input.sk-hidden--visually {border: 0;clip: rect(1px 1px 1px 1px);clip: rect(1px, 1px, 1px, 1px);height: 1px;margin: -1px;overflow: hidden;padding: 0;position: absolute;width: 1px;}#sk-container-id-2 div.sk-estimator {font-family: monospace;background-color: #f0f8ff;border: 1px dotted black;border-radius: 0.25em;box-sizing: border-box;margin-bottom: 0.5em;}#sk-container-id-2 div.sk-estimator:hover {background-color: #d4ebff;}#sk-container-id-2 div.sk-parallel-item::after {content: \"\";width: 100%;border-bottom: 1px solid gray;flex-grow: 1;}#sk-container-id-2 div.sk-label:hover label.sk-toggleable__label {background-color: #d4ebff;}#sk-container-id-2 div.sk-serial::before {content: \"\";position: absolute;border-left: 1px solid gray;box-sizing: border-box;top: 0;bottom: 0;left: 50%;z-index: 0;}#sk-container-id-2 div.sk-serial {display: flex;flex-direction: column;align-items: center;background-color: white;padding-right: 0.2em;padding-left: 0.2em;position: relative;}#sk-container-id-2 div.sk-item {position: relative;z-index: 1;}#sk-container-id-2 div.sk-parallel {display: flex;align-items: stretch;justify-content: center;background-color: white;position: relative;}#sk-container-id-2 div.sk-item::before, #sk-container-id-2 div.sk-parallel-item::before {content: \"\";position: absolute;border-left: 1px solid gray;box-sizing: border-box;top: 0;bottom: 0;left: 50%;z-index: -1;}#sk-container-id-2 div.sk-parallel-item {display: flex;flex-direction: column;z-index: 1;position: relative;background-color: white;}#sk-container-id-2 div.sk-parallel-item:first-child::after {align-self: flex-end;width: 50%;}#sk-container-id-2 div.sk-parallel-item:last-child::after {align-self: flex-start;width: 50%;}#sk-container-id-2 div.sk-parallel-item:only-child::after {width: 0;}#sk-container-id-2 div.sk-dashed-wrapped {border: 1px dashed gray;margin: 0 0.4em 0.5em 0.4em;box-sizing: border-box;padding-bottom: 0.4em;background-color: white;}#sk-container-id-2 div.sk-label label {font-family: monospace;font-weight: bold;display: inline-block;line-height: 1.2em;}#sk-container-id-2 div.sk-label-container {text-align: center;}#sk-container-id-2 div.sk-container {/* jupyter's `normalize.less` sets `[hidden] { display: none; }` but bootstrap.min.css set `[hidden] { display: none !important; }` so we also need the `!important` here to be able to override the default hidden behavior on the sphinx rendered scikit-learn.org. See: https://github.com/scikit-learn/scikit-learn/issues/21755 */display: inline-block !important;position: relative;}#sk-container-id-2 div.sk-text-repr-fallback {display: none;}</style><div id=\"sk-container-id-2\" class=\"sk-top-container\"><div class=\"sk-text-repr-fallback\"><pre>KNeighborsClassifier(n_jobs=-1, n_neighbors=4, weights=&#x27;distance&#x27;)</pre><b>In a Jupyter environment, please rerun this cell to show the HTML representation or trust the notebook. <br />On GitHub, the HTML representation is unable to render, please try loading this page with nbviewer.org.</b></div><div class=\"sk-container\" hidden><div class=\"sk-item\"><div class=\"sk-estimator sk-toggleable\"><input class=\"sk-toggleable__control sk-hidden--visually\" id=\"sk-estimator-id-2\" type=\"checkbox\" checked><label for=\"sk-estimator-id-2\" class=\"sk-toggleable__label sk-toggleable__label-arrow\">KNeighborsClassifier</label><div class=\"sk-toggleable__content\"><pre>KNeighborsClassifier(n_jobs=-1, n_neighbors=4, weights=&#x27;distance&#x27;)</pre></div></div></div></div></div>"
            ],
            "text/plain": [
              "KNeighborsClassifier(n_jobs=-1, n_neighbors=4, weights='distance')"
            ]
          },
          "execution_count": 96,
          "metadata": {},
          "output_type": "execute_result"
        }
      ],
      "source": [
        "knn=KNeighborsClassifier(n_jobs=-1, n_neighbors=4, weights='distance')\n",
        "knn.fit(X_train_scaled,y_train_over)"
      ]
    },
    {
      "cell_type": "markdown",
      "id": "0c0e6e0d",
      "metadata": {
        "id": "0c0e6e0d"
      },
      "source": [
        "#### 스케일링한 test데이터를 가지고 모델에 적용하여 나온 예측값을 knn_pred에 할당하고 평가지표함수로 성능을 확인합니다."
      ]
    },
    {
      "cell_type": "code",
      "execution_count": null,
      "id": "6eb42321",
      "metadata": {
        "id": "6eb42321",
        "outputId": "12bc1c56-fc1d-4082-9397-ec9b00e45b0b"
      },
      "outputs": [
        {
          "data": {
            "text/html": [
              "<div>\n",
              "<style scoped>\n",
              "    .dataframe tbody tr th:only-of-type {\n",
              "        vertical-align: middle;\n",
              "    }\n",
              "\n",
              "    .dataframe tbody tr th {\n",
              "        vertical-align: top;\n",
              "    }\n",
              "\n",
              "    .dataframe thead th {\n",
              "        text-align: right;\n",
              "    }\n",
              "</style>\n",
              "<table border=\"1\" class=\"dataframe\">\n",
              "  <thead>\n",
              "    <tr style=\"text-align: right;\">\n",
              "      <th></th>\n",
              "      <th>accuracy</th>\n",
              "      <th>precision</th>\n",
              "      <th>recall</th>\n",
              "      <th>f1_score</th>\n",
              "    </tr>\n",
              "  </thead>\n",
              "  <tbody>\n",
              "    <tr>\n",
              "      <th>0</th>\n",
              "      <td>0.498626</td>\n",
              "      <td>0.498626</td>\n",
              "      <td>0.498626</td>\n",
              "      <td>0.498626</td>\n",
              "    </tr>\n",
              "  </tbody>\n",
              "</table>\n",
              "</div>"
            ],
            "text/plain": [
              "   accuracy  precision    recall  f1_score\n",
              "0  0.498626   0.498626  0.498626  0.498626"
            ]
          },
          "execution_count": 97,
          "metadata": {},
          "output_type": "execute_result"
        }
      ],
      "source": [
        "knn_pred= knn.predict(X_test_scaled)\n",
        "\n",
        "_metrics(y_test, knn_pred)"
      ]
    },
    {
      "cell_type": "markdown",
      "id": "a67a849a",
      "metadata": {
        "id": "a67a849a"
      },
      "source": [
        "### 혼동행렬\n",
        "y_test와 예측값 knn_pred를 이용하여 혼동행렬 생성하여 knn_cf에 할당합니다."
      ]
    },
    {
      "cell_type": "code",
      "execution_count": null,
      "id": "548383b8",
      "metadata": {
        "id": "548383b8",
        "outputId": "70a369c1-07f8-42e5-d2e5-bef5baf84344"
      },
      "outputs": [
        {
          "data": {
            "text/plain": [
              "array([[  0,   0,   0,   0,   0],\n",
              "       [  0,   0,   0,   4,   0],\n",
              "       [  0,   0,   6,   8,   3],\n",
              "       [  2,   3,  24,  23,  42],\n",
              "       [  6,  10,  60, 203, 334]], dtype=int64)"
            ]
          },
          "execution_count": 98,
          "metadata": {},
          "output_type": "execute_result"
        }
      ],
      "source": [
        "from sklearn.metrics import confusion_matrix\n",
        "\n",
        "knn_cf = confusion_matrix(y_test, knn_pred)\n",
        "knn_cf"
      ]
    },
    {
      "cell_type": "markdown",
      "id": "0e72e1bc",
      "metadata": {
        "id": "0e72e1bc"
      },
      "source": [
        "### 혼동행렬 시각화\n",
        "knn_cf를 데이터 프레임(knn_cf_matrix)으로 만든 후 컬럼명과, 인덱스를 1~5점으로 저장합니다.   \n",
        "데이터 프레임을 heatmap으로 만들어 줍니다. ( annot=True  -> 각 셀에 숫자 입력 , fmt='d'  -> 정수형으로 나오도록함)   \n",
        "x라벨 : 예측값, y라벨 : 실제값"
      ]
    },
    {
      "cell_type": "code",
      "execution_count": null,
      "id": "d970da56",
      "metadata": {
        "scrolled": false,
        "id": "d970da56",
        "outputId": "c1de7617-aa6f-458b-f24e-ace932d79457"
      },
      "outputs": [
        {
          "data": {
            "image/png": "[encoded data removed]",
            "text/plain": [
              "<Figure size 640x480 with 2 Axes>"
            ]
          },
          "metadata": {},
          "output_type": "display_data"
        }
      ],
      "source": [
        "knn_cf_matrix= pd.DataFrame(knn_cf)\n",
        "knn_cf_matrix.columns = [1, 2, 3, 4, 5]\n",
        "knn_cf_matrix.index = [1, 2, 3, 4, 5]\n",
        "\n",
        "#히트맵 코드 작성\n",
        "sns.heatmap(knn_cf_matrix, annot=True, fmt='d')\n",
        "plt.xlabel(\"예측값\")\n",
        "plt.ylabel(\"실제값\")\n",
        "plt.show()"
      ]
    }
  ],
  "metadata": {
    "kernelspec": {
      "display_name": "Python 3 (ipykernel)",
      "language": "python",
      "name": "python3"
    },
    "language_info": {
      "codemirror_mode": {
        "name": "ipython",
        "version": 3
      },
      "file_extension": ".py",
      "mimetype": "text/x-python",
      "name": "python",
      "nbconvert_exporter": "python",
      "pygments_lexer": "ipython3",
      "version": "3.10.6"
    },
    "colab": {
      "provenance": [],
      "include_colab_link": true
    }
  },
  "nbformat": 4,
  "nbformat_minor": 5
}