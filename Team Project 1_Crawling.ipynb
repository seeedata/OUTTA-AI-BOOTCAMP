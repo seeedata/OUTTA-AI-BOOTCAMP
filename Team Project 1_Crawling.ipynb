{
  "cells": [
    {
      "cell_type": "markdown",
      "metadata": {
        "id": "view-in-github",
        "colab_type": "text"
      },
      "source": [
        "<a href=\"https://colab.research.google.com/github/seeedata/OUTTA-AI-BOOTCAMP/blob/main/Team%20Project%201_Crawling.ipynb\" target=\"_parent\"><img src=\"https://colab.research.google.com/assets/colab-badge.svg\" alt=\"Open In Colab\"/></a>"
      ]
    },
    {
      "cell_type": "code",
      "execution_count": null,
      "id": "867d58fd",
      "metadata": {
        "id": "867d58fd"
      },
      "outputs": [],
      "source": [
        "from selenium import webdriver\n",
        "from selenium.webdriver.chrome.service import Service\n",
        "from selenium.webdriver.chrome.options import Options\n",
        "from selenium.webdriver.common.by import By\n",
        "from selenium.webdriver.common.keys import Keys\n",
        "import requests\n",
        "from bs4 import BeautifulSoup\n",
        "import time\n",
        "import openpyxl"
      ]
    },
    {
      "cell_type": "markdown",
      "id": "a6a5333a",
      "metadata": {
        "id": "a6a5333a"
      },
      "source": [
        "### 엑셀 파일 생성하기\n",
        "파일명, 시트명, 컬럼명을 정해줍니다."
      ]
    },
    {
      "cell_type": "code",
      "execution_count": null,
      "id": "6f049e2a",
      "metadata": {
        "id": "6f049e2a"
      },
      "outputs": [],
      "source": [
        "#엑셀파일 생성\n",
        "wb = openpyxl.Workbook(\"test2.xlsx\")\n",
        "ws = wb.create_sheet(\"customer\")\n",
        "ws.append(['브랜드','상품명','카테고리','정가','할인가','아이디','별점','피부정보','피부타입','피부고민','자극도'])  #컬럼명 제공"
      ]
    },
    {
      "cell_type": "markdown",
      "id": "2202a3e1",
      "metadata": {
        "id": "2202a3e1"
      },
      "source": [
        "### 올리브영 스킨케어 랭킹 링크를 main_url로 두고 5위까지 제품 상세 링크를 sub_url에 저장하기"
      ]
    },
    {
      "cell_type": "code",
      "execution_count": null,
      "id": "a960ddb4",
      "metadata": {
        "id": "a960ddb4"
      },
      "outputs": [],
      "source": [
        "main_url = \"https://www.oliveyoung.co.kr/store/main/getBestList.do?dispCatNo=900000100100001&fltDispCatNo=10000010001&pageIdx=1&rowsPerPage=8\"\n",
        "\n",
        "response = requests.get(main_url)\n",
        "html = response.text\n",
        "soup = BeautifulSoup(html, 'html.parser')\n",
        "\n",
        "links = soup.select(\"div.prd_info > a\") #빈칸채우기\n",
        "\n",
        "\n",
        "#for반복문을 활용하여 5위까지 제품별 상세링크 sub_url에 저장\n",
        "rank=5\n",
        "\n",
        "sub_url= []\n",
        "\n",
        "for link in links:\n",
        "    if links.index(link) < rank:\n",
        "        sub_url.append(link['href'])\n",
        "    else:\n",
        "        break\n",
        "\n",
        "time.sleep(1)\n",
        "\n",
        "# 1위 인덱스 0, 2위 인덱스 1, 3위 인덱스 2, 4위 인덱스 3, 5위 인덱스 4"
      ]
    },
    {
      "cell_type": "code",
      "execution_count": null,
      "id": "96524b59",
      "metadata": {
        "id": "96524b59",
        "outputId": "f8f31da5-4b88-4b01-e4ae-f035bf45b3c6"
      },
      "outputs": [
        {
          "data": {
            "text/plain": [
              "['https://www.oliveyoung.co.kr/store/goods/getGoodsDetail.do?goodsNo=A000000187837&dispCatNo=90000010009&trackingCd=Best_Sellingbest',\n",
              " 'https://www.oliveyoung.co.kr/store/goods/getGoodsDetail.do?goodsNo=A000000188189&dispCatNo=90000010009&trackingCd=Best_Sellingbest',\n",
              " 'https://www.oliveyoung.co.kr/store/goods/getGoodsDetail.do?goodsNo=A000000187781&dispCatNo=90000010009&trackingCd=Best_Sellingbest',\n",
              " 'https://www.oliveyoung.co.kr/store/goods/getGoodsDetail.do?goodsNo=A000000165598&dispCatNo=90000010009&trackingCd=Best_Sellingbest',\n",
              " 'https://www.oliveyoung.co.kr/store/goods/getGoodsDetail.do?goodsNo=A000000188240&dispCatNo=90000010009&trackingCd=Best_Sellingbest']"
            ]
          },
          "execution_count": 4,
          "metadata": {},
          "output_type": "execute_result"
        }
      ],
      "source": [
        "sub_url"
      ]
    },
    {
      "cell_type": "markdown",
      "id": "905dc1dd",
      "metadata": {
        "id": "905dc1dd"
      },
      "source": [
        "### 크롤링 함수 만들기\n",
        "제품 상세 페이지에서 상단 제품정보(브랜드명,상품명,카테고리,정가,할인가)와  \n",
        "하단의 리뷰고객 좌픅정보(아이디,별점,피부정보)와 우측정보(피부타입,피부고민,자극도)를 가져옵니다.  \n",
        "위의 데이터를 엑셀에 계속 추가하는 함수를 만듭니다."
      ]
    },
    {
      "cell_type": "code",
      "execution_count": null,
      "id": "9644353f",
      "metadata": {
        "id": "9644353f"
      },
      "outputs": [],
      "source": [
        "def customer_info():\n",
        "\n",
        "    #한 페이지에 있는 리뷰자 수\n",
        "    for j in range(0,10,1):\n",
        "\n",
        "        #브랜드\n",
        "        try:\n",
        "            #brand = soup.select(\"p.prd_brand > a\")[0].get_text()\n",
        "            element = driver.find_element(By.CSS_SELECTOR, 'p.prd_brand > a')\n",
        "            brand = element.text\n",
        "        except:\n",
        "            brand =\"없음\"\n",
        "\n",
        "        #상품명\n",
        "        try:\n",
        "            #p_name = soup.select(\"p.prd_name\")[0].get_text()\n",
        "            element = driver.find_element(By.CSS_SELECTOR, 'p.prd_name')\n",
        "            p_name = element.text\n",
        "        except:\n",
        "            p_name=\"없음\"\n",
        "\n",
        "        #카테고리\n",
        "        try:\n",
        "            element = driver.find_element(By.CSS_SELECTOR, '#dtlCatNm')\n",
        "            p_category = element.text\n",
        "        except:\n",
        "            p_category=\"없음\"\n",
        "\n",
        "        #정가\n",
        "        try:\n",
        "            #price = int(soup.select(\"span.price-1 > strike\")[0].get_text().replace(\",\", \"\"))\n",
        "            element = driver.find_element(By.CSS_SELECTOR, 'span.price-1 > strike')\n",
        "            price = int(element.text.replace(\",\", \"\"))\n",
        "\n",
        "        except:\n",
        "            price=0\n",
        "\n",
        "        #할인가\n",
        "        try:\n",
        "            #discount = int(soup.select(\"span.price-2 > strong\")[0].get_text().replace(\",\", \"\"))\n",
        "            element = driver.find_element(By.CSS_SELECTOR, 'span.price-2 > strong')\n",
        "            discount = int(element.text.replace(\",\", \"\"))\n",
        "\n",
        "        except:\n",
        "            discount=0\n",
        "\n",
        "        #고객 아이디\n",
        "        review_link = driver.find_element(By.CSS_SELECTOR, 'a.goods_reputation')\n",
        "        review_link.click()\n",
        "        driver.implicitly_wait(3)\n",
        "\n",
        "        try:\n",
        "            element = driver.find_elements(By.CSS_SELECTOR, 'a.id')[j]\n",
        "            _id = element.text\n",
        "        except:\n",
        "            _id =\"없음\"\n",
        "\n",
        "        #별점\n",
        "        try:\n",
        "            element = driver.find_elements(By.XPATH, f'//*[@id=\"gdasList\"]/li[{j+1}]/div[2]/div[1]/span[1]/span')[0]\n",
        "            _star = int(element.get_attribute(\"innerText\").split()[1][0])\n",
        "        except:\n",
        "            _star=\"없음\"\n",
        "\n",
        "        #고객 피부 정보\n",
        "        try:\n",
        "            info_list = list()\n",
        "            header = driver.find_elements(By.CSS_SELECTOR, \"p.tag\")[j]\n",
        "            children = header.find_elements(By.XPATH, \"*\")\n",
        "            for child in children:\n",
        "                info_list.append(child.text)\n",
        "            _info = ', '.join(info_list)\n",
        "\n",
        "        except:\n",
        "            _info = \"없음\"\n",
        "\n",
        "        #피부 타입\n",
        "        try:\n",
        "            element = driver.find_elements(By.CSS_SELECTOR, \"div.poll_sample > dl:nth-child(1) > dd > span\")[j]\n",
        "            skin_type = element.text\n",
        "        except:\n",
        "            skin_type = \"없음\"\n",
        "\n",
        "        #피부 고민\n",
        "        try:\n",
        "            element = driver.find_elements(By.CSS_SELECTOR, \"div.poll_sample > dl:nth-child(2) > dd > span\")[j]\n",
        "            skin_trouble = element.text\n",
        "        except:\n",
        "            skin_trouble = \"없음\"\n",
        "\n",
        "        #자극도\n",
        "        try:\n",
        "            element = driver.find_elements(By.CSS_SELECTOR, \"div.poll_sample > dl:nth-child(3) > dd > span\")[j]\n",
        "            skin_irritation = element.text\n",
        "        except:\n",
        "            skin_irritation = \"없음\"\n",
        "\n",
        "        #엑셀 데이터 쌓기\n",
        "        ws.append([brand, p_name, p_category, price, discount, _id, _star, _info, skin_type, skin_trouble, skin_irritation])\n",
        "        time.sleep(1)"
      ]
    },
    {
      "cell_type": "markdown",
      "id": "d8d4d340",
      "metadata": {
        "id": "d8d4d340"
      },
      "source": [
        "### 웹페이지 해당 주소로 이동하여 크롤링함수를 실행하는 반복문을 만듭니다.\n",
        "반복문에 들어가야 하는 것  \n",
        "1. 리뷰버튼 클릭  \n",
        "2. 화면 맨 아래까지 스크롤하기 (코드제공)\n",
        "3. 10페이지 이하일 때 : 10페이지 크롤링 한 후 다음페이지 화살표 버튼 누르기 , 마지막 페이지인 경우 last_page==True\n",
        "4. 11페이지부터 규칙을찾아 다음페이지로 이동하게 만들기, 마지막 페이지인 경우 last_page==True"
      ]
    },
    {
      "cell_type": "code",
      "execution_count": null,
      "id": "30b2304c",
      "metadata": {
        "id": "30b2304c",
        "outputId": "8af864c9-5b06-4b93-d2f0-3fc2ccf3f7fb"
      },
      "outputs": [
        {
          "name": "stdout",
          "output_type": "stream",
          "text": [
            "No next page for 100\n",
            "No next page for 100\n",
            "No next page for 100\n",
            "No next page for 100\n",
            "No next page for 100\n"
          ]
        }
      ],
      "source": [
        "#웹페이지 해당 주소 이동\n",
        "for i in range(0,5):          #전체 제품을 한번에 크롤링하지 않고 나눠서 크롤링 할 경우 sub_url 인덱스 고려해서 range숫자 변경\n",
        "\n",
        "    driver = webdriver.Chrome()\n",
        "    driver.implicitly_wait(5)  #웹페이지 로딩 될때까지 5초는 기다림\n",
        "    driver.maximize_window()   #화면 최대화\n",
        "    driver.get(sub_url[i])\n",
        "    time.sleep(3)\n",
        "\n",
        "    #리뷰버튼 클릭\n",
        "    rv = driver.find_element(By.CSS_SELECTOR, 'a.goods_reputation')\n",
        "    rv.click()\n",
        "    time.sleep(3)\n",
        "\n",
        "    #리뷰 하단 끝까지 스크롤하는 함수 (빈칸없음.그대로 코드 사용가능)\n",
        "    before_h = driver.execute_script(\"return window.scrollY\")         #스크롤 전 높이\n",
        "    #화면 맨아래까지 스크롤\n",
        "    while True:\n",
        "        driver.find_element(By.CSS_SELECTOR,\"body\").send_keys(Keys.END)\n",
        "\n",
        "        time.sleep(1)\n",
        "\n",
        "        #스크롤 후 높이\n",
        "        after_h = driver.execute_script(\"return window.scrollY\")\n",
        "\n",
        "        #스크롤 값이 같으면 스크롤 멈춤\n",
        "        if after_h == before_h:\n",
        "            break\n",
        "        before_h = after_h\n",
        "\n",
        "\n",
        "    last_page=False\n",
        "\n",
        "    for k in range(1,101):  #100페이지 크롤링 한다고 했을 때 (상품당 최대 100페이지까지 있음)\n",
        "\n",
        "        #마지막 페이지면 종료\n",
        "        if last_page == True:\n",
        "            break\n",
        "\n",
        "        #페이지 숫자 10 이하일 때\n",
        "        if k<11:\n",
        "            try:\n",
        "                if k != 10:\n",
        "                    customer_info()\n",
        "                    np = driver.find_element(By.CSS_SELECTOR, f'div.pageing > a:nth-child({k+1})')\n",
        "                    np.click()\n",
        "\n",
        "                elif k == 10:          #10페이지 크롤링 한 후에 다음페이지로 가는 화살표 버튼 클릭\n",
        "                    customer_info()\n",
        "                    np = driver.find_element(By.CSS_SELECTOR, 'div.pageing > a.next')\n",
        "                    np.click()\n",
        "\n",
        "            except:\n",
        "                print(f\"No next page for {k}\")\n",
        "                last_page = True\n",
        "                continue\n",
        "\n",
        "\n",
        "       #페이지 숫자 11이상 일 때  (규칙을 찾아 각 페이지 크롤링 후 다음 페이지로 이동하도록 코드 작성)\n",
        "        elif k>10 :\n",
        "\n",
        "            try:\n",
        "                if k%10 != 0:\n",
        "                    customer_info()\n",
        "                    np = driver.find_element(By.CSS_SELECTOR, f'div.pageing > a:nth-child({(k%10)+2})')\n",
        "                    np.click()\n",
        "\n",
        "                else:\n",
        "                    customer_info()\n",
        "                    np = driver.find_element(By.CSS_SELECTOR, 'div.pageing > a.next')\n",
        "                    np.click()\n",
        "\n",
        "            except:\n",
        "                print(f\"No next page for {k}\")\n",
        "                last_page = True\n",
        "                continue"
      ]
    },
    {
      "cell_type": "code",
      "execution_count": null,
      "id": "6d5bd675",
      "metadata": {
        "id": "6d5bd675"
      },
      "outputs": [],
      "source": [
        "driver.quit()"
      ]
    },
    {
      "cell_type": "markdown",
      "id": "362fa376",
      "metadata": {
        "id": "362fa376"
      },
      "source": [
        "### 크롤링한 결과를 엑셀에 저장 (상단에서 만든 엑셀 파일명과 동일하게)"
      ]
    },
    {
      "cell_type": "code",
      "execution_count": null,
      "id": "61cfc536",
      "metadata": {
        "id": "61cfc536"
      },
      "outputs": [],
      "source": [
        "wb.save(\"test2.xlsx\")"
      ]
    }
  ],
  "metadata": {
    "kernelspec": {
      "display_name": "Python 3 (ipykernel)",
      "language": "python",
      "name": "python3"
    },
    "language_info": {
      "codemirror_mode": {
        "name": "ipython",
        "version": 3
      },
      "file_extension": ".py",
      "mimetype": "text/x-python",
      "name": "python",
      "nbconvert_exporter": "python",
      "pygments_lexer": "ipython3",
      "version": "3.10.6"
    },
    "colab": {
      "provenance": [],
      "toc_visible": true,
      "include_colab_link": true
    }
  },
  "nbformat": 4,
  "nbformat_minor": 5
}